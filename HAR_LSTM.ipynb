{
 "cells": [
  {
   "cell_type": "markdown",
   "metadata": {},
   "source": [
    " <h1>Assignments</h1>"
   ]
  },
  {
   "cell_type": "code",
   "execution_count": 1,
   "metadata": {
    "ExecuteTime": {
     "end_time": "2019-08-17T15:30:28.713550Z",
     "start_time": "2019-08-17T15:29:19.883419Z"
    }
   },
   "outputs": [
    {
     "name": "stderr",
     "output_type": "stream",
     "text": [
      "Using TensorFlow backend.\n"
     ]
    }
   ],
   "source": [
    "# Importing Libraries\n",
    "import pandas as pd\n",
    "import numpy as np\n",
    "# Import Keras\n",
    "from keras import backend as K\n",
    "# Importing libraries\n",
    "from keras.models import Sequential\n",
    "from keras.layers import LSTM\n",
    "from keras.layers.core import Dense, Dropout\n",
    "# import library\n",
    "import talos as ta\n",
    "from keras import optimizers\n",
    "from keras.activations import relu\n",
    "from talos.utils import live # Live Monitoring # enable live training plot"
   ]
  },
  {
   "cell_type": "code",
   "execution_count": 2,
   "metadata": {
    "ExecuteTime": {
     "end_time": "2019-08-17T15:32:58.938932Z",
     "start_time": "2019-08-17T15:32:58.930954Z"
    }
   },
   "outputs": [],
   "source": [
    "# Activities are the class labels\n",
    "# It is a 6 class classification\n",
    "ACTIVITIES = {\n",
    "    0: 'WALKING',\n",
    "    1: 'WALKING_UPSTAIRS',\n",
    "    2: 'WALKING_DOWNSTAIRS',\n",
    "    3: 'SITTING',\n",
    "    4: 'STANDING',\n",
    "    5: 'LAYING',\n",
    "}\n",
    "\n",
    "# Utility function to print the confusion matrix\n",
    "def confusion_matrix(Y_true, Y_pred):\n",
    "    Y_true = pd.Series([ACTIVITIES[y] for y in np.argmax(Y_true, axis=1)])\n",
    "    Y_pred = pd.Series([ACTIVITIES[y] for y in np.argmax(Y_pred, axis=1)])\n",
    "\n",
    "    return pd.crosstab(Y_true, Y_pred, rownames=['True'], colnames=['Pred'])"
   ]
  },
  {
   "cell_type": "markdown",
   "metadata": {},
   "source": [
    "### Data"
   ]
  },
  {
   "cell_type": "code",
   "execution_count": 3,
   "metadata": {
    "ExecuteTime": {
     "end_time": "2019-08-17T15:33:01.268769Z",
     "start_time": "2019-08-17T15:33:01.260767Z"
    }
   },
   "outputs": [],
   "source": [
    "# Data directory\n",
    "DATADIR = 'UCI_HAR_Dataset'"
   ]
  },
  {
   "cell_type": "code",
   "execution_count": 4,
   "metadata": {
    "ExecuteTime": {
     "end_time": "2019-08-17T15:33:02.748749Z",
     "start_time": "2019-08-17T15:33:02.740754Z"
    }
   },
   "outputs": [],
   "source": [
    "# Raw data signals\n",
    "# Signals are from Accelerometer and Gyroscope\n",
    "# The signals are in x,y,z directions\n",
    "# Sensor signals are filtered to have only body acceleration\n",
    "# excluding the acceleration due to gravity\n",
    "# Triaxial acceleration from the accelerometer is total acceleration\n",
    "SIGNALS = [\n",
    "    \"body_acc_x\",\n",
    "    \"body_acc_y\",\n",
    "    \"body_acc_z\",\n",
    "    \"body_gyro_x\",\n",
    "    \"body_gyro_y\",\n",
    "    \"body_gyro_z\",\n",
    "    \"total_acc_x\",\n",
    "    \"total_acc_y\",\n",
    "    \"total_acc_z\"\n",
    "]"
   ]
  },
  {
   "cell_type": "code",
   "execution_count": 5,
   "metadata": {
    "ExecuteTime": {
     "end_time": "2019-08-17T15:33:05.119722Z",
     "start_time": "2019-08-17T15:33:05.107724Z"
    }
   },
   "outputs": [],
   "source": [
    "# Utility function to read the data from csv file\n",
    "def _read_csv(filename):\n",
    "    return pd.read_csv(filename, delim_whitespace=True, header=None)\n",
    "\n",
    "# Utility function to load the load\n",
    "def load_signals(subset):\n",
    "    signals_data = []\n",
    "\n",
    "    for signal in SIGNALS:\n",
    "        filename = f'UCI_HAR_Dataset/{subset}/Inertial Signals/{signal}_{subset}.txt'\n",
    "        signals_data.append(\n",
    "            _read_csv(filename).as_matrix()\n",
    "        ) \n",
    "\n",
    "    # Transpose is used to change the dimensionality of the output,\n",
    "    # aggregating the signals by combination of sample/timestep.\n",
    "    # Resultant shape is (7352 train/2947 test samples, 128 timesteps, 9 signals)\n",
    "    return np.transpose(signals_data, (1, 2, 0))"
   ]
  },
  {
   "cell_type": "code",
   "execution_count": 6,
   "metadata": {
    "ExecuteTime": {
     "end_time": "2019-08-17T15:33:08.312381Z",
     "start_time": "2019-08-17T15:33:08.308384Z"
    }
   },
   "outputs": [],
   "source": [
    "\n",
    "def load_y(subset):\n",
    "    \"\"\"\n",
    "    The objective that we are trying to predict is a integer, from 1 to 6,\n",
    "    that represents a human activity. We return a binary representation of \n",
    "    every sample objective as a 6 bits vector using One Hot Encoding\n",
    "    (https://pandas.pydata.org/pandas-docs/stable/generated/pandas.get_dummies.html)\n",
    "    \"\"\"\n",
    "    filename = f'UCI_HAR_Dataset/{subset}/y_{subset}.txt'\n",
    "    y = _read_csv(filename)[0]\n",
    "\n",
    "    return pd.get_dummies(y).as_matrix()"
   ]
  },
  {
   "cell_type": "code",
   "execution_count": 7,
   "metadata": {
    "ExecuteTime": {
     "end_time": "2019-08-17T15:33:09.740810Z",
     "start_time": "2019-08-17T15:33:09.732816Z"
    }
   },
   "outputs": [],
   "source": [
    "def load_data():\n",
    "    \"\"\"\n",
    "    Obtain the dataset from multiple files.\n",
    "    Returns: X_train, X_test, y_train, y_test\n",
    "    \"\"\"\n",
    "    X_train, X_test = load_signals('train'), load_signals('test')\n",
    "    y_train, y_test = load_y('train'), load_y('test')\n",
    "\n",
    "    return X_train, X_test, y_train, y_test"
   ]
  },
  {
   "cell_type": "code",
   "execution_count": 8,
   "metadata": {
    "ExecuteTime": {
     "end_time": "2019-08-17T15:33:10.971321Z",
     "start_time": "2019-08-17T15:33:10.939328Z"
    }
   },
   "outputs": [],
   "source": [
    "# Importing tensorflow\n",
    "np.random.seed(42)\n",
    "import tensorflow as tf\n",
    "tf.set_random_seed(42)"
   ]
  },
  {
   "cell_type": "code",
   "execution_count": 9,
   "metadata": {
    "ExecuteTime": {
     "end_time": "2019-08-17T15:33:12.001054Z",
     "start_time": "2019-08-17T15:33:11.993057Z"
    }
   },
   "outputs": [],
   "source": [
    "# Configuring a session\n",
    "session_conf = tf.ConfigProto(\n",
    "    intra_op_parallelism_threads=1,\n",
    "    inter_op_parallelism_threads=1\n",
    ")"
   ]
  },
  {
   "cell_type": "code",
   "execution_count": 10,
   "metadata": {
    "ExecuteTime": {
     "end_time": "2019-08-17T15:33:13.044966Z",
     "start_time": "2019-08-17T15:33:13.028949Z"
    }
   },
   "outputs": [],
   "source": [
    "sess = tf.Session(graph=tf.get_default_graph(), config=session_conf)\n",
    "K.set_session(sess)"
   ]
  },
  {
   "cell_type": "code",
   "execution_count": 11,
   "metadata": {
    "ExecuteTime": {
     "end_time": "2019-08-17T15:33:13.918809Z",
     "start_time": "2019-08-17T15:33:13.910813Z"
    }
   },
   "outputs": [],
   "source": [
    "# Initializing parameters\n",
    "epochs = 30\n",
    "batch_size = 16\n",
    "n_hidden = 32"
   ]
  },
  {
   "cell_type": "code",
   "execution_count": 12,
   "metadata": {
    "ExecuteTime": {
     "end_time": "2019-08-17T15:33:15.016763Z",
     "start_time": "2019-08-17T15:33:15.012763Z"
    }
   },
   "outputs": [],
   "source": [
    "# Utility function to count the number of classes\n",
    "def _count_classes(y):\n",
    "    return len(set([tuple(category) for category in y]))"
   ]
  },
  {
   "cell_type": "code",
   "execution_count": 13,
   "metadata": {
    "ExecuteTime": {
     "end_time": "2019-08-17T15:33:23.786060Z",
     "start_time": "2019-08-17T15:33:15.879051Z"
    }
   },
   "outputs": [],
   "source": [
    "# Loading the train and test data\n",
    "X_train, X_test, Y_train, Y_test = load_data()"
   ]
  },
  {
   "cell_type": "code",
   "execution_count": 14,
   "metadata": {
    "ExecuteTime": {
     "end_time": "2019-08-17T15:33:23.865129Z",
     "start_time": "2019-08-17T15:33:23.813141Z"
    }
   },
   "outputs": [
    {
     "name": "stdout",
     "output_type": "stream",
     "text": [
      "128\n",
      "9\n",
      "7352\n",
      "6\n"
     ]
    },
    {
     "data": {
      "text/plain": [
       "(7352, 128, 9)"
      ]
     },
     "execution_count": 14,
     "metadata": {},
     "output_type": "execute_result"
    }
   ],
   "source": [
    "timesteps = len(X_train[0])\n",
    "input_dim = len(X_train[0][0])\n",
    "n_classes = _count_classes(Y_train)\n",
    "\n",
    "print(timesteps)\n",
    "print(input_dim)\n",
    "print(len(X_train))\n",
    "print(n_classes)\n",
    "X_train.shape"
   ]
  },
  {
   "cell_type": "markdown",
   "metadata": {},
   "source": [
    "- Defining the Architecture of LSTM"
   ]
  },
  {
   "cell_type": "code",
   "execution_count": 17,
   "metadata": {
    "ExecuteTime": {
     "end_time": "2019-08-16T08:34:32.307488Z",
     "start_time": "2019-08-16T08:34:31.606528Z"
    }
   },
   "outputs": [
    {
     "name": "stdout",
     "output_type": "stream",
     "text": [
      "_________________________________________________________________\n",
      "Layer (type)                 Output Shape              Param #   \n",
      "=================================================================\n",
      "lstm_1 (LSTM)                (None, 32)                5376      \n",
      "_________________________________________________________________\n",
      "dropout_1 (Dropout)          (None, 32)                0         \n",
      "_________________________________________________________________\n",
      "dense_1 (Dense)              (None, 6)                 198       \n",
      "=================================================================\n",
      "Total params: 5,574\n",
      "Trainable params: 5,574\n",
      "Non-trainable params: 0\n",
      "_________________________________________________________________\n"
     ]
    }
   ],
   "source": [
    "# Initiliazing the sequential model\n",
    "model = Sequential()\n",
    "# Configuring the parameters\n",
    "model.add(LSTM(n_hidden, input_shape=(timesteps, input_dim)))\n",
    "# Adding a dropout layer\n",
    "model.add(Dropout(0.5))\n",
    "# Adding a dense output layer with sigmoid activation\n",
    "model.add(Dense(n_classes, activation='sigmoid'))\n",
    "model.summary()"
   ]
  },
  {
   "cell_type": "code",
   "execution_count": 18,
   "metadata": {
    "ExecuteTime": {
     "end_time": "2019-08-16T08:34:35.041737Z",
     "start_time": "2019-08-16T08:34:34.981751Z"
    }
   },
   "outputs": [],
   "source": [
    "# Compiling the model\n",
    "model.compile(loss='categorical_crossentropy',\n",
    "              optimizer='rmsprop',\n",
    "              metrics=['accuracy'])"
   ]
  },
  {
   "cell_type": "code",
   "execution_count": 29,
   "metadata": {
    "ExecuteTime": {
     "end_time": "2019-08-16T10:51:07.589776Z",
     "start_time": "2019-08-16T10:28:59.260485Z"
    }
   },
   "outputs": [
    {
     "name": "stdout",
     "output_type": "stream",
     "text": [
      "Train on 7352 samples, validate on 2947 samples\n",
      "Epoch 1/29\n",
      "7352/7352 [==============================] - 47s 6ms/step - loss: 0.1773 - acc: 0.9486 - val_loss: 0.4807 - val_acc: 0.9060\n",
      "Epoch 2/29\n",
      "7352/7352 [==============================] - 44s 6ms/step - loss: 0.1390 - acc: 0.9524 - val_loss: 0.4571 - val_acc: 0.8931\n",
      "Epoch 3/29\n",
      "7352/7352 [==============================] - 44s 6ms/step - loss: 0.1423 - acc: 0.9508 - val_loss: 0.4182 - val_acc: 0.9128\n",
      "Epoch 4/29\n",
      "7352/7352 [==============================] - 44s 6ms/step - loss: 0.1478 - acc: 0.9476 - val_loss: 0.5644 - val_acc: 0.8989\n",
      "Epoch 5/29\n",
      "7352/7352 [==============================] - 47s 6ms/step - loss: 0.1472 - acc: 0.9504 - val_loss: 0.4882 - val_acc: 0.9023\n",
      "Epoch 6/29\n",
      "7352/7352 [==============================] - 47s 6ms/step - loss: 0.1357 - acc: 0.9505 - val_loss: 0.4380 - val_acc: 0.9033\n",
      "Epoch 7/29\n",
      "7352/7352 [==============================] - 50s 7ms/step - loss: 0.1310 - acc: 0.9531 - val_loss: 0.4990 - val_acc: 0.9067\n",
      "Epoch 8/29\n",
      "7352/7352 [==============================] - 56s 8ms/step - loss: 0.1629 - acc: 0.9464 - val_loss: 0.7723 - val_acc: 0.8907\n",
      "Epoch 9/29\n",
      "7352/7352 [==============================] - 51s 7ms/step - loss: 0.1718 - acc: 0.9493 - val_loss: 0.4551 - val_acc: 0.9040\n",
      "Epoch 10/29\n",
      "7352/7352 [==============================] - 48s 6ms/step - loss: 0.1362 - acc: 0.9546 - val_loss: 0.5748 - val_acc: 0.9033\n",
      "Epoch 11/29\n",
      "7352/7352 [==============================] - 51s 7ms/step - loss: 0.2323 - acc: 0.9433 - val_loss: 0.4259 - val_acc: 0.9114\n",
      "Epoch 12/29\n",
      "7352/7352 [==============================] - 45s 6ms/step - loss: 0.2232 - acc: 0.9425 - val_loss: 0.5650 - val_acc: 0.9067\n",
      "Epoch 13/29\n",
      "7352/7352 [==============================] - 46s 6ms/step - loss: 0.1773 - acc: 0.9489 - val_loss: 0.7223 - val_acc: 0.8938\n",
      "Epoch 14/29\n",
      "7352/7352 [==============================] - 44s 6ms/step - loss: 0.1463 - acc: 0.9506 - val_loss: 0.4359 - val_acc: 0.9104\n",
      "Epoch 15/29\n",
      "7352/7352 [==============================] - 43s 6ms/step - loss: 0.1227 - acc: 0.9523 - val_loss: 0.4756 - val_acc: 0.9074\n",
      "Epoch 16/29\n",
      "7352/7352 [==============================] - 44s 6ms/step - loss: 0.1453 - acc: 0.9517 - val_loss: 0.4418 - val_acc: 0.9121\n",
      "Epoch 17/29\n",
      "7352/7352 [==============================] - 44s 6ms/step - loss: 0.1239 - acc: 0.9546 - val_loss: 0.4456 - val_acc: 0.9108\n",
      "Epoch 18/29\n",
      "7352/7352 [==============================] - 44s 6ms/step - loss: 0.1326 - acc: 0.9544 - val_loss: 0.4202 - val_acc: 0.9080\n",
      "Epoch 19/29\n",
      "7352/7352 [==============================] - 44s 6ms/step - loss: 0.1413 - acc: 0.9513 - val_loss: 0.4361 - val_acc: 0.9084\n",
      "Epoch 20/29\n",
      "7352/7352 [==============================] - 44s 6ms/step - loss: 0.1455 - acc: 0.9520 - val_loss: 0.6376 - val_acc: 0.8985\n",
      "Epoch 21/29\n",
      "7352/7352 [==============================] - 45s 6ms/step - loss: 0.1448 - acc: 0.9514 - val_loss: 0.5534 - val_acc: 0.9026\n",
      "Epoch 22/29\n",
      "7352/7352 [==============================] - 45s 6ms/step - loss: 0.1287 - acc: 0.9576 - val_loss: 0.3989 - val_acc: 0.9189\n",
      "Epoch 23/29\n",
      "7352/7352 [==============================] - 45s 6ms/step - loss: 0.1238 - acc: 0.9524 - val_loss: 0.5133 - val_acc: 0.9006\n",
      "Epoch 24/29\n",
      "7352/7352 [==============================] - 44s 6ms/step - loss: 0.1309 - acc: 0.9520 - val_loss: 0.3968 - val_acc: 0.8968\n",
      "Epoch 25/29\n",
      "7352/7352 [==============================] - 45s 6ms/step - loss: 0.2100 - acc: 0.9471 - val_loss: 0.4935 - val_acc: 0.9074\n",
      "Epoch 26/29\n",
      "7352/7352 [==============================] - 45s 6ms/step - loss: 0.1268 - acc: 0.9532 - val_loss: 0.8483 - val_acc: 0.8765\n",
      "Epoch 27/29\n",
      "7352/7352 [==============================] - 45s 6ms/step - loss: 0.1283 - acc: 0.9502 - val_loss: 0.4244 - val_acc: 0.9057\n",
      "Epoch 28/29\n",
      "7352/7352 [==============================] - 45s 6ms/step - loss: 0.2080 - acc: 0.9459 - val_loss: 0.4830 - val_acc: 0.9026\n",
      "Epoch 29/29\n",
      "7352/7352 [==============================] - 45s 6ms/step - loss: 0.1693 - acc: 0.9498 - val_loss: 0.5767 - val_acc: 0.8951\n"
     ]
    },
    {
     "data": {
      "text/plain": [
       "<keras.callbacks.History at 0x2372fa6a5c0>"
      ]
     },
     "execution_count": 29,
     "metadata": {},
     "output_type": "execute_result"
    }
   ],
   "source": [
    "# Training the model\n",
    "model.fit(X_train,\n",
    "          Y_train,\n",
    "          batch_size=batch_size,\n",
    "          validation_data=(X_test, Y_test),\n",
    "          epochs=epochs)"
   ]
  },
  {
   "cell_type": "code",
   "execution_count": 30,
   "metadata": {
    "ExecuteTime": {
     "end_time": "2019-08-16T11:07:00.370901Z",
     "start_time": "2019-08-16T11:06:58.825710Z"
    }
   },
   "outputs": [
    {
     "name": "stdout",
     "output_type": "stream",
     "text": [
      "Pred                LAYING  SITTING  STANDING  WALKING  WALKING_DOWNSTAIRS  \\\n",
      "True                                                                         \n",
      "LAYING                 525       12         0        0                   0   \n",
      "SITTING                  0      378       108        0                   4   \n",
      "STANDING                 0       93       439        0                   0   \n",
      "WALKING                  0        1         2      439                  22   \n",
      "WALKING_DOWNSTAIRS       0        0         0        2                 410   \n",
      "WALKING_UPSTAIRS         0        1         0       14                   9   \n",
      "\n",
      "Pred                WALKING_UPSTAIRS  \n",
      "True                                  \n",
      "LAYING                             0  \n",
      "SITTING                            1  \n",
      "STANDING                           0  \n",
      "WALKING                           32  \n",
      "WALKING_DOWNSTAIRS                 8  \n",
      "WALKING_UPSTAIRS                 447  \n"
     ]
    }
   ],
   "source": [
    "# Confusion Matrix\n",
    "print(confusion_matrix(Y_test, model.predict(X_test)))"
   ]
  },
  {
   "cell_type": "code",
   "execution_count": 31,
   "metadata": {
    "ExecuteTime": {
     "end_time": "2019-08-16T11:07:02.081925Z",
     "start_time": "2019-08-16T11:07:00.424878Z"
    }
   },
   "outputs": [
    {
     "name": "stdout",
     "output_type": "stream",
     "text": [
      "2947/2947 [==============================] - 2s 561us/step\n"
     ]
    }
   ],
   "source": [
    "score = model.evaluate(X_test, Y_test)"
   ]
  },
  {
   "cell_type": "code",
   "execution_count": 32,
   "metadata": {
    "ExecuteTime": {
     "end_time": "2019-08-16T11:07:02.729719Z",
     "start_time": "2019-08-16T11:07:02.722745Z"
    }
   },
   "outputs": [
    {
     "data": {
      "text/plain": [
       "[0.5767476545911808, 0.8951476077366813]"
      ]
     },
     "execution_count": 32,
     "metadata": {},
     "output_type": "execute_result"
    }
   ],
   "source": [
    "score"
   ]
  },
  {
   "cell_type": "markdown",
   "metadata": {},
   "source": [
    "- With a simple 2 layer architecture we got 90.09% accuracy and a loss of 0.30\n",
    "- We can further imporve the performace with Hyperparameter tuning"
   ]
  },
  {
   "cell_type": "markdown",
   "metadata": {},
   "source": [
    "<h1><center> Hyper Parameter Tuning with Talos </center></h1>\n",
    "![title](logo.png)"
   ]
  },
  {
   "cell_type": "code",
   "execution_count": 17,
   "metadata": {
    "ExecuteTime": {
     "end_time": "2019-08-17T15:35:27.863715Z",
     "start_time": "2019-08-17T15:35:27.851716Z"
    }
   },
   "outputs": [],
   "source": [
    "# https://autonomio.github.io/docs_talos/#introduction\n",
    "# https://github.com/autonomio/talos\n",
    "\n",
    "from talos.model.early_stopper import early_stopper\n",
    "def lstm_model(x_train, y_train, x_val, y_val, params):\n",
    "\n",
    "    model = Sequential()\n",
    "    \n",
    "    model.add(LSTM(units=params['first_neuron'],input_shape=(timesteps, input_dim)))\n",
    "    model.add(Dropout(rate=params['dropout']))\n",
    "    model.add(Dense(n_classes, activation='softmax')) \n",
    "    model.compile(optimizer=params['optimizer'],loss=params['losses'],metrics=['accuracy'])\n",
    "    \n",
    "    history = model.fit(x_train, y_train, validation_data=[x_val, y_val], batch_size=params['batch_size'],\n",
    "                        callbacks=[live(),early_stopper(params['epochs'])],epochs=params['epochs'],verbose=2)\n",
    "\n",
    "    return history, model"
   ]
  },
  {
   "cell_type": "code",
   "execution_count": 16,
   "metadata": {
    "ExecuteTime": {
     "end_time": "2019-08-17T15:34:30.592656Z",
     "start_time": "2019-08-17T15:34:30.584658Z"
    }
   },
   "outputs": [],
   "source": [
    "params = {\n",
    "    'optimizer': ['Adam','Nadam'],\n",
    "    'losses': ['binary_crossentropy'],\n",
    "    'first_neuron': [16, 32, 64],\n",
    "    'batch_size': [16,32],\n",
    "    'epochs': [30],\n",
    "    'dropout': [0.3,0.4,0.5,0.6,0.7]\n",
    "}"
   ]
  },
  {
   "cell_type": "code",
   "execution_count": 18,
   "metadata": {
    "ExecuteTime": {
     "end_time": "2019-08-17T23:14:50.440361Z",
     "start_time": "2019-08-17T15:35:37.154085Z"
    }
   },
   "outputs": [
    {
     "data": {
      "image/png": "[encoded data removed]",
      "text/plain": [
       "<Figure size 864x576 with 2 Axes>"
      ]
     },
     "metadata": {},
     "output_type": "display_data"
    },
    {
     "name": "stderr",
     "output_type": "stream",
     "text": [
      "100%|███████████████████████████████████████████████████████████████████████████████| 60/60 [7:39:13<00:00, 558.84s/it]\n"
     ]
    }
   ],
   "source": [
    "h = ta.Scan(x=X_train, y=Y_train,x_val=X_test, y_val=Y_test,\n",
    "          model=lstm_model,\n",
    "          params=params, search_method='random',\n",
    "          shuffle=True, dataset_name='UCI_HAR_Dataset',\n",
    "          experiment_no='1', seed=42)"
   ]
  },
  {
   "cell_type": "code",
   "execution_count": 19,
   "metadata": {
    "ExecuteTime": {
     "end_time": "2019-08-18T04:57:31.814124Z",
     "start_time": "2019-08-18T04:57:31.802132Z"
    }
   },
   "outputs": [
    {
     "data": {
      "text/plain": [
       "experiment_name        UCI_HAR_Dataset_1\n",
       "random_method           uniform_mersenne\n",
       "reduction_method                    None\n",
       "reduction_interval                    50\n",
       "reduction_window                      20\n",
       "grid_downsample                        1\n",
       "reduction_threshold                  0.2\n",
       "reduction_metric                 val_acc\n",
       "reduce_loss                        False\n",
       "complete_time             08/18/19/04:44\n",
       "x_shape                   (7352, 128, 9)\n",
       "y_shape                        (7352, 6)\n",
       "dtype: object"
      ]
     },
     "execution_count": 19,
     "metadata": {},
     "output_type": "execute_result"
    }
   ],
   "source": [
    "h.details"
   ]
  },
  {
   "cell_type": "code",
   "execution_count": 51,
   "metadata": {
    "ExecuteTime": {
     "end_time": "2019-08-18T06:44:56.293350Z",
     "start_time": "2019-08-18T06:44:56.260368Z"
    }
   },
   "outputs": [
    {
     "data": {
      "text/html": [
       "<div>\n",
       "<style scoped>\n",
       "    .dataframe tbody tr th:only-of-type {\n",
       "        vertical-align: middle;\n",
       "    }\n",
       "\n",
       "    .dataframe tbody tr th {\n",
       "        vertical-align: top;\n",
       "    }\n",
       "\n",
       "    .dataframe thead th {\n",
       "        text-align: right;\n",
       "    }\n",
       "</style>\n",
       "<table border=\"1\" class=\"dataframe\">\n",
       "  <thead>\n",
       "    <tr style=\"text-align: right;\">\n",
       "      <th></th>\n",
       "      <th>round_epochs</th>\n",
       "      <th>val_loss</th>\n",
       "      <th>val_acc</th>\n",
       "      <th>loss</th>\n",
       "      <th>acc</th>\n",
       "      <th>optimizer</th>\n",
       "      <th>losses</th>\n",
       "      <th>first_neuron</th>\n",
       "      <th>batch_size</th>\n",
       "      <th>epochs</th>\n",
       "      <th>dropout</th>\n",
       "      <th>None</th>\n",
       "    </tr>\n",
       "  </thead>\n",
       "  <tbody>\n",
       "    <tr>\n",
       "      <th>0</th>\n",
       "      <td>19</td>\n",
       "      <td>0.135219</td>\n",
       "      <td>0.956736</td>\n",
       "      <td>0.129088</td>\n",
       "      <td>0.952439</td>\n",
       "      <td>Nadam</td>\n",
       "      <td>binary_crossentropy</td>\n",
       "      <td>16</td>\n",
       "      <td>16</td>\n",
       "      <td>30</td>\n",
       "      <td>0.6</td>\n",
       "      <td>0</td>\n",
       "    </tr>\n",
       "    <tr>\n",
       "      <th>1</th>\n",
       "      <td>9</td>\n",
       "      <td>0.094286</td>\n",
       "      <td>0.965954</td>\n",
       "      <td>0.074021</td>\n",
       "      <td>0.973930</td>\n",
       "      <td>Nadam</td>\n",
       "      <td>binary_crossentropy</td>\n",
       "      <td>64</td>\n",
       "      <td>16</td>\n",
       "      <td>30</td>\n",
       "      <td>0.6</td>\n",
       "      <td>1</td>\n",
       "    </tr>\n",
       "    <tr>\n",
       "      <th>2</th>\n",
       "      <td>25</td>\n",
       "      <td>0.131649</td>\n",
       "      <td>0.950967</td>\n",
       "      <td>0.120538</td>\n",
       "      <td>0.955137</td>\n",
       "      <td>Adam</td>\n",
       "      <td>binary_crossentropy</td>\n",
       "      <td>16</td>\n",
       "      <td>32</td>\n",
       "      <td>30</td>\n",
       "      <td>0.6</td>\n",
       "      <td>2</td>\n",
       "    </tr>\n",
       "    <tr>\n",
       "      <th>3</th>\n",
       "      <td>8</td>\n",
       "      <td>0.183931</td>\n",
       "      <td>0.920032</td>\n",
       "      <td>0.149868</td>\n",
       "      <td>0.932785</td>\n",
       "      <td>Nadam</td>\n",
       "      <td>binary_crossentropy</td>\n",
       "      <td>16</td>\n",
       "      <td>16</td>\n",
       "      <td>30</td>\n",
       "      <td>0.3</td>\n",
       "      <td>3</td>\n",
       "    </tr>\n",
       "    <tr>\n",
       "      <th>4</th>\n",
       "      <td>11</td>\n",
       "      <td>0.096246</td>\n",
       "      <td>0.966633</td>\n",
       "      <td>0.064050</td>\n",
       "      <td>0.975812</td>\n",
       "      <td>Adam</td>\n",
       "      <td>binary_crossentropy</td>\n",
       "      <td>64</td>\n",
       "      <td>16</td>\n",
       "      <td>30</td>\n",
       "      <td>0.5</td>\n",
       "      <td>4</td>\n",
       "    </tr>\n",
       "  </tbody>\n",
       "</table>\n",
       "</div>"
      ],
      "text/plain": [
       "   round_epochs  val_loss   val_acc      loss       acc optimizer  \\\n",
       "0            19  0.135219  0.956736  0.129088  0.952439     Nadam   \n",
       "1             9  0.094286  0.965954  0.074021  0.973930     Nadam   \n",
       "2            25  0.131649  0.950967  0.120538  0.955137      Adam   \n",
       "3             8  0.183931  0.920032  0.149868  0.932785     Nadam   \n",
       "4            11  0.096246  0.966633  0.064050  0.975812      Adam   \n",
       "\n",
       "                losses  first_neuron  batch_size  epochs  dropout  NaN  \n",
       "0  binary_crossentropy            16          16      30      0.6    0  \n",
       "1  binary_crossentropy            64          16      30      0.6    1  \n",
       "2  binary_crossentropy            16          32      30      0.6    2  \n",
       "3  binary_crossentropy            16          16      30      0.3    3  \n",
       "4  binary_crossentropy            64          16      30      0.5    4  "
      ]
     },
     "execution_count": 51,
     "metadata": {},
     "output_type": "execute_result"
    }
   ],
   "source": [
    "h.data.head(5)"
   ]
  },
  {
   "cell_type": "code",
   "execution_count": 35,
   "metadata": {
    "ExecuteTime": {
     "end_time": "2019-08-18T06:23:50.340846Z",
     "start_time": "2019-08-18T06:23:49.490354Z"
    }
   },
   "outputs": [
    {
     "data": {
      "image/png": "[encoded data removed]",
      "text/plain": [
       "<Figure size 720x475.2 with 1 Axes>"
      ]
     },
     "metadata": {},
     "output_type": "display_data"
    },
    {
     "data": {
      "image/png": "[encoded data removed]",
      "text/plain": [
       "<Figure size 540x540 with 2 Axes>"
      ]
     },
     "metadata": {},
     "output_type": "display_data"
    }
   ],
   "source": [
    "%matplotlib inline\n",
    "r = ta.Reporting(h)\n",
    "# a simple histogram \n",
    "r.plot_hist(bins=10)\n",
    "# heatmap correlation\n",
    "r.plot_corr()"
   ]
  },
  {
   "cell_type": "code",
   "execution_count": 38,
   "metadata": {
    "ExecuteTime": {
     "end_time": "2019-08-18T06:29:09.504686Z",
     "start_time": "2019-08-18T06:29:07.964401Z"
    }
   },
   "outputs": [
    {
     "data": {
      "image/png": "[encoded data removed]",
      "text/plain": [
       "<Figure size 1238x576 with 5 Axes>"
      ]
     },
     "metadata": {},
     "output_type": "display_data"
    }
   ],
   "source": [
    "r.plot_bars('batch_size', 'val_acc', 'first_neuron', 'dropout')"
   ]
  },
  {
   "cell_type": "code",
   "execution_count": 39,
   "metadata": {
    "ExecuteTime": {
     "end_time": "2019-08-18T06:29:56.641314Z",
     "start_time": "2019-08-18T06:29:54.843838Z"
    }
   },
   "outputs": [
    {
     "data": {
      "image/png": "[encoded data removed]",
      "text/plain": [
       "<Figure size 1238x576 with 5 Axes>"
      ]
     },
     "metadata": {},
     "output_type": "display_data"
    }
   ],
   "source": [
    "r.plot_bars('batch_size', 'acc', 'first_neuron', 'dropout')"
   ]
  },
  {
   "cell_type": "code",
   "execution_count": 41,
   "metadata": {
    "ExecuteTime": {
     "end_time": "2019-08-18T06:32:25.165830Z",
     "start_time": "2019-08-18T06:32:24.672847Z"
    }
   },
   "outputs": [
    {
     "data": {
      "image/png": "[encoded data removed]",
      "text/plain": [
       "<Figure size 864x475.2 with 1 Axes>"
      ]
     },
     "metadata": {},
     "output_type": "display_data"
    },
    {
     "data": {
      "image/png": "[encoded data removed]",
      "text/plain": [
       "<Figure size 864x475.2 with 1 Axes>"
      ]
     },
     "metadata": {},
     "output_type": "display_data"
    }
   ],
   "source": [
    "# line plot\n",
    "r.plot_line(metric='acc')\n",
    "r.plot_line(metric='val_acc')"
   ]
  },
  {
   "cell_type": "code",
   "execution_count": 45,
   "metadata": {
    "ExecuteTime": {
     "end_time": "2019-08-18T06:35:27.112455Z",
     "start_time": "2019-08-18T06:35:25.401372Z"
    }
   },
   "outputs": [
    {
     "data": {
      "image/png": "[encoded data removed]",
      "text/plain": [
       "<Figure size 720x475.2 with 1 Axes>"
      ]
     },
     "metadata": {},
     "output_type": "display_data"
    },
    {
     "data": {
      "image/png": "[encoded data removed]",
      "text/plain": [
       "<Figure size 720x475.2 with 1 Axes>"
      ]
     },
     "metadata": {},
     "output_type": "display_data"
    }
   ],
   "source": [
    "r.plot_kde('val_acc','dropout')\n",
    "r.plot_kde('acc','dropout')"
   ]
  },
  {
   "cell_type": "code",
   "execution_count": 46,
   "metadata": {
    "ExecuteTime": {
     "end_time": "2019-08-18T06:36:44.639006Z",
     "start_time": "2019-08-18T06:36:44.623017Z"
    }
   },
   "outputs": [
    {
     "data": {
      "text/plain": [
       "array([['Nadam', 'binary_crossentropy', 0.5, 16, 46, 30, 64, 0],\n",
       "       ['Nadam', 'binary_crossentropy', 0.5, 32, 51, 30, 64, 1],\n",
       "       ['Adam', 'binary_crossentropy', 0.3, 16, 54, 30, 64, 2],\n",
       "       ['Adam', 'binary_crossentropy', 0.4, 16, 16, 30, 64, 3],\n",
       "       ['Nadam', 'binary_crossentropy', 0.4, 16, 22, 30, 64, 4],\n",
       "       ['Adam', 'binary_crossentropy', 0.5, 32, 41, 30, 64, 5],\n",
       "       ['Adam', 'binary_crossentropy', 0.7, 32, 24, 30, 64, 6],\n",
       "       ['Adam', 'binary_crossentropy', 0.5, 16, 4, 30, 64, 7],\n",
       "       ['Nadam', 'binary_crossentropy', 0.3, 16, 48, 30, 32, 8],\n",
       "       ['Nadam', 'binary_crossentropy', 0.6, 16, 1, 30, 64, 9]],\n",
       "      dtype=object)"
      ]
     },
     "execution_count": 46,
     "metadata": {},
     "output_type": "execute_result"
    }
   ],
   "source": [
    "# get the best paramaters\n",
    "r.best_params()"
   ]
  },
  {
   "cell_type": "code",
   "execution_count": 50,
   "metadata": {
    "ExecuteTime": {
     "end_time": "2019-08-18T06:44:00.442718Z",
     "start_time": "2019-08-18T06:44:00.382752Z"
    }
   },
   "outputs": [
    {
     "data": {
      "text/html": [
       "<div>\n",
       "<style scoped>\n",
       "    .dataframe tbody tr th:only-of-type {\n",
       "        vertical-align: middle;\n",
       "    }\n",
       "\n",
       "    .dataframe tbody tr th {\n",
       "        vertical-align: top;\n",
       "    }\n",
       "\n",
       "    .dataframe thead th {\n",
       "        text-align: right;\n",
       "    }\n",
       "</style>\n",
       "<table border=\"1\" class=\"dataframe\">\n",
       "  <thead>\n",
       "    <tr style=\"text-align: right;\">\n",
       "      <th></th>\n",
       "      <th>round_epochs</th>\n",
       "      <th>val_loss</th>\n",
       "      <th>val_acc</th>\n",
       "      <th>loss</th>\n",
       "      <th>acc</th>\n",
       "      <th>optimizer</th>\n",
       "      <th>losses</th>\n",
       "      <th>first_neuron</th>\n",
       "      <th>batch_size</th>\n",
       "      <th>epochs</th>\n",
       "      <th>dropout</th>\n",
       "      <th>None</th>\n",
       "    </tr>\n",
       "  </thead>\n",
       "  <tbody>\n",
       "    <tr>\n",
       "      <th>46</th>\n",
       "      <td>16</td>\n",
       "      <td>0.073264</td>\n",
       "      <td>0.972005</td>\n",
       "      <td>0.048190</td>\n",
       "      <td>0.981570</td>\n",
       "      <td>Nadam</td>\n",
       "      <td>binary_crossentropy</td>\n",
       "      <td>64</td>\n",
       "      <td>16</td>\n",
       "      <td>30</td>\n",
       "      <td>0.5</td>\n",
       "      <td>46</td>\n",
       "    </tr>\n",
       "    <tr>\n",
       "      <th>51</th>\n",
       "      <td>15</td>\n",
       "      <td>0.087422</td>\n",
       "      <td>0.969969</td>\n",
       "      <td>0.047682</td>\n",
       "      <td>0.982658</td>\n",
       "      <td>Nadam</td>\n",
       "      <td>binary_crossentropy</td>\n",
       "      <td>64</td>\n",
       "      <td>32</td>\n",
       "      <td>30</td>\n",
       "      <td>0.5</td>\n",
       "      <td>51</td>\n",
       "    </tr>\n",
       "    <tr>\n",
       "      <th>54</th>\n",
       "      <td>11</td>\n",
       "      <td>0.092216</td>\n",
       "      <td>0.968669</td>\n",
       "      <td>0.053887</td>\n",
       "      <td>0.979801</td>\n",
       "      <td>Adam</td>\n",
       "      <td>binary_crossentropy</td>\n",
       "      <td>64</td>\n",
       "      <td>16</td>\n",
       "      <td>30</td>\n",
       "      <td>0.3</td>\n",
       "      <td>54</td>\n",
       "    </tr>\n",
       "    <tr>\n",
       "      <th>16</th>\n",
       "      <td>16</td>\n",
       "      <td>0.082590</td>\n",
       "      <td>0.968556</td>\n",
       "      <td>0.047794</td>\n",
       "      <td>0.981434</td>\n",
       "      <td>Adam</td>\n",
       "      <td>binary_crossentropy</td>\n",
       "      <td>64</td>\n",
       "      <td>16</td>\n",
       "      <td>30</td>\n",
       "      <td>0.4</td>\n",
       "      <td>16</td>\n",
       "    </tr>\n",
       "    <tr>\n",
       "      <th>22</th>\n",
       "      <td>11</td>\n",
       "      <td>0.083716</td>\n",
       "      <td>0.968386</td>\n",
       "      <td>0.059781</td>\n",
       "      <td>0.977285</td>\n",
       "      <td>Nadam</td>\n",
       "      <td>binary_crossentropy</td>\n",
       "      <td>64</td>\n",
       "      <td>16</td>\n",
       "      <td>30</td>\n",
       "      <td>0.4</td>\n",
       "      <td>22</td>\n",
       "    </tr>\n",
       "    <tr>\n",
       "      <th>41</th>\n",
       "      <td>13</td>\n",
       "      <td>0.099858</td>\n",
       "      <td>0.967085</td>\n",
       "      <td>0.052615</td>\n",
       "      <td>0.980368</td>\n",
       "      <td>Adam</td>\n",
       "      <td>binary_crossentropy</td>\n",
       "      <td>64</td>\n",
       "      <td>32</td>\n",
       "      <td>30</td>\n",
       "      <td>0.5</td>\n",
       "      <td>41</td>\n",
       "    </tr>\n",
       "    <tr>\n",
       "      <th>24</th>\n",
       "      <td>18</td>\n",
       "      <td>0.096054</td>\n",
       "      <td>0.966859</td>\n",
       "      <td>0.071577</td>\n",
       "      <td>0.976106</td>\n",
       "      <td>Adam</td>\n",
       "      <td>binary_crossentropy</td>\n",
       "      <td>64</td>\n",
       "      <td>32</td>\n",
       "      <td>30</td>\n",
       "      <td>0.7</td>\n",
       "      <td>24</td>\n",
       "    </tr>\n",
       "    <tr>\n",
       "      <th>4</th>\n",
       "      <td>11</td>\n",
       "      <td>0.096246</td>\n",
       "      <td>0.966633</td>\n",
       "      <td>0.064050</td>\n",
       "      <td>0.975812</td>\n",
       "      <td>Adam</td>\n",
       "      <td>binary_crossentropy</td>\n",
       "      <td>64</td>\n",
       "      <td>16</td>\n",
       "      <td>30</td>\n",
       "      <td>0.5</td>\n",
       "      <td>4</td>\n",
       "    </tr>\n",
       "    <tr>\n",
       "      <th>48</th>\n",
       "      <td>14</td>\n",
       "      <td>0.077868</td>\n",
       "      <td>0.966576</td>\n",
       "      <td>0.059477</td>\n",
       "      <td>0.978260</td>\n",
       "      <td>Nadam</td>\n",
       "      <td>binary_crossentropy</td>\n",
       "      <td>32</td>\n",
       "      <td>16</td>\n",
       "      <td>30</td>\n",
       "      <td>0.3</td>\n",
       "      <td>48</td>\n",
       "    </tr>\n",
       "    <tr>\n",
       "      <th>1</th>\n",
       "      <td>9</td>\n",
       "      <td>0.094286</td>\n",
       "      <td>0.965954</td>\n",
       "      <td>0.074021</td>\n",
       "      <td>0.973930</td>\n",
       "      <td>Nadam</td>\n",
       "      <td>binary_crossentropy</td>\n",
       "      <td>64</td>\n",
       "      <td>16</td>\n",
       "      <td>30</td>\n",
       "      <td>0.6</td>\n",
       "      <td>1</td>\n",
       "    </tr>\n",
       "    <tr>\n",
       "      <th>31</th>\n",
       "      <td>10</td>\n",
       "      <td>0.091567</td>\n",
       "      <td>0.965784</td>\n",
       "      <td>0.060124</td>\n",
       "      <td>0.978577</td>\n",
       "      <td>Nadam</td>\n",
       "      <td>binary_crossentropy</td>\n",
       "      <td>64</td>\n",
       "      <td>32</td>\n",
       "      <td>30</td>\n",
       "      <td>0.3</td>\n",
       "      <td>31</td>\n",
       "    </tr>\n",
       "    <tr>\n",
       "      <th>9</th>\n",
       "      <td>20</td>\n",
       "      <td>0.112652</td>\n",
       "      <td>0.965728</td>\n",
       "      <td>0.054970</td>\n",
       "      <td>0.979167</td>\n",
       "      <td>Adam</td>\n",
       "      <td>binary_crossentropy</td>\n",
       "      <td>64</td>\n",
       "      <td>16</td>\n",
       "      <td>30</td>\n",
       "      <td>0.6</td>\n",
       "      <td>9</td>\n",
       "    </tr>\n",
       "    <tr>\n",
       "      <th>12</th>\n",
       "      <td>17</td>\n",
       "      <td>0.107473</td>\n",
       "      <td>0.965332</td>\n",
       "      <td>0.078462</td>\n",
       "      <td>0.973545</td>\n",
       "      <td>Nadam</td>\n",
       "      <td>binary_crossentropy</td>\n",
       "      <td>32</td>\n",
       "      <td>32</td>\n",
       "      <td>30</td>\n",
       "      <td>0.7</td>\n",
       "      <td>12</td>\n",
       "    </tr>\n",
       "    <tr>\n",
       "      <th>6</th>\n",
       "      <td>16</td>\n",
       "      <td>0.090248</td>\n",
       "      <td>0.965332</td>\n",
       "      <td>0.055404</td>\n",
       "      <td>0.979597</td>\n",
       "      <td>Adam</td>\n",
       "      <td>binary_crossentropy</td>\n",
       "      <td>64</td>\n",
       "      <td>32</td>\n",
       "      <td>30</td>\n",
       "      <td>0.4</td>\n",
       "      <td>6</td>\n",
       "    </tr>\n",
       "    <tr>\n",
       "      <th>25</th>\n",
       "      <td>20</td>\n",
       "      <td>0.084095</td>\n",
       "      <td>0.965332</td>\n",
       "      <td>0.062743</td>\n",
       "      <td>0.975902</td>\n",
       "      <td>Nadam</td>\n",
       "      <td>binary_crossentropy</td>\n",
       "      <td>32</td>\n",
       "      <td>16</td>\n",
       "      <td>30</td>\n",
       "      <td>0.4</td>\n",
       "      <td>25</td>\n",
       "    </tr>\n",
       "    <tr>\n",
       "      <th>44</th>\n",
       "      <td>12</td>\n",
       "      <td>0.103979</td>\n",
       "      <td>0.964653</td>\n",
       "      <td>0.058094</td>\n",
       "      <td>0.978917</td>\n",
       "      <td>Nadam</td>\n",
       "      <td>binary_crossentropy</td>\n",
       "      <td>32</td>\n",
       "      <td>16</td>\n",
       "      <td>30</td>\n",
       "      <td>0.5</td>\n",
       "      <td>44</td>\n",
       "    </tr>\n",
       "    <tr>\n",
       "      <th>18</th>\n",
       "      <td>12</td>\n",
       "      <td>0.102271</td>\n",
       "      <td>0.963748</td>\n",
       "      <td>0.060504</td>\n",
       "      <td>0.979008</td>\n",
       "      <td>Adam</td>\n",
       "      <td>binary_crossentropy</td>\n",
       "      <td>32</td>\n",
       "      <td>16</td>\n",
       "      <td>30</td>\n",
       "      <td>0.3</td>\n",
       "      <td>18</td>\n",
       "    </tr>\n",
       "    <tr>\n",
       "      <th>55</th>\n",
       "      <td>10</td>\n",
       "      <td>0.100661</td>\n",
       "      <td>0.963579</td>\n",
       "      <td>0.070762</td>\n",
       "      <td>0.974814</td>\n",
       "      <td>Nadam</td>\n",
       "      <td>binary_crossentropy</td>\n",
       "      <td>64</td>\n",
       "      <td>32</td>\n",
       "      <td>30</td>\n",
       "      <td>0.4</td>\n",
       "      <td>55</td>\n",
       "    </tr>\n",
       "    <tr>\n",
       "      <th>7</th>\n",
       "      <td>18</td>\n",
       "      <td>0.107544</td>\n",
       "      <td>0.963126</td>\n",
       "      <td>0.079529</td>\n",
       "      <td>0.973658</td>\n",
       "      <td>Adam</td>\n",
       "      <td>binary_crossentropy</td>\n",
       "      <td>32</td>\n",
       "      <td>16</td>\n",
       "      <td>30</td>\n",
       "      <td>0.6</td>\n",
       "      <td>7</td>\n",
       "    </tr>\n",
       "    <tr>\n",
       "      <th>40</th>\n",
       "      <td>18</td>\n",
       "      <td>0.131322</td>\n",
       "      <td>0.961769</td>\n",
       "      <td>0.063406</td>\n",
       "      <td>0.977897</td>\n",
       "      <td>Adam</td>\n",
       "      <td>binary_crossentropy</td>\n",
       "      <td>32</td>\n",
       "      <td>32</td>\n",
       "      <td>30</td>\n",
       "      <td>0.3</td>\n",
       "      <td>40</td>\n",
       "    </tr>\n",
       "    <tr>\n",
       "      <th>34</th>\n",
       "      <td>10</td>\n",
       "      <td>0.124447</td>\n",
       "      <td>0.961543</td>\n",
       "      <td>0.070800</td>\n",
       "      <td>0.977013</td>\n",
       "      <td>Nadam</td>\n",
       "      <td>binary_crossentropy</td>\n",
       "      <td>32</td>\n",
       "      <td>32</td>\n",
       "      <td>30</td>\n",
       "      <td>0.3</td>\n",
       "      <td>34</td>\n",
       "    </tr>\n",
       "    <tr>\n",
       "      <th>59</th>\n",
       "      <td>29</td>\n",
       "      <td>0.100859</td>\n",
       "      <td>0.960581</td>\n",
       "      <td>0.061656</td>\n",
       "      <td>0.979031</td>\n",
       "      <td>Adam</td>\n",
       "      <td>binary_crossentropy</td>\n",
       "      <td>16</td>\n",
       "      <td>16</td>\n",
       "      <td>30</td>\n",
       "      <td>0.3</td>\n",
       "      <td>59</td>\n",
       "    </tr>\n",
       "    <tr>\n",
       "      <th>42</th>\n",
       "      <td>17</td>\n",
       "      <td>0.124296</td>\n",
       "      <td>0.958998</td>\n",
       "      <td>0.067923</td>\n",
       "      <td>0.976922</td>\n",
       "      <td>Adam</td>\n",
       "      <td>binary_crossentropy</td>\n",
       "      <td>32</td>\n",
       "      <td>32</td>\n",
       "      <td>30</td>\n",
       "      <td>0.5</td>\n",
       "      <td>42</td>\n",
       "    </tr>\n",
       "    <tr>\n",
       "      <th>13</th>\n",
       "      <td>12</td>\n",
       "      <td>0.116454</td>\n",
       "      <td>0.957527</td>\n",
       "      <td>0.108923</td>\n",
       "      <td>0.963819</td>\n",
       "      <td>Nadam</td>\n",
       "      <td>binary_crossentropy</td>\n",
       "      <td>32</td>\n",
       "      <td>32</td>\n",
       "      <td>30</td>\n",
       "      <td>0.5</td>\n",
       "      <td>13</td>\n",
       "    </tr>\n",
       "    <tr>\n",
       "      <th>15</th>\n",
       "      <td>19</td>\n",
       "      <td>0.133781</td>\n",
       "      <td>0.957132</td>\n",
       "      <td>0.070478</td>\n",
       "      <td>0.974701</td>\n",
       "      <td>Adam</td>\n",
       "      <td>binary_crossentropy</td>\n",
       "      <td>32</td>\n",
       "      <td>32</td>\n",
       "      <td>30</td>\n",
       "      <td>0.4</td>\n",
       "      <td>15</td>\n",
       "    </tr>\n",
       "    <tr>\n",
       "      <th>0</th>\n",
       "      <td>19</td>\n",
       "      <td>0.135219</td>\n",
       "      <td>0.956736</td>\n",
       "      <td>0.129088</td>\n",
       "      <td>0.952439</td>\n",
       "      <td>Nadam</td>\n",
       "      <td>binary_crossentropy</td>\n",
       "      <td>16</td>\n",
       "      <td>16</td>\n",
       "      <td>30</td>\n",
       "      <td>0.6</td>\n",
       "      <td>0</td>\n",
       "    </tr>\n",
       "    <tr>\n",
       "      <th>37</th>\n",
       "      <td>9</td>\n",
       "      <td>0.126478</td>\n",
       "      <td>0.956566</td>\n",
       "      <td>0.074244</td>\n",
       "      <td>0.974655</td>\n",
       "      <td>Adam</td>\n",
       "      <td>binary_crossentropy</td>\n",
       "      <td>32</td>\n",
       "      <td>16</td>\n",
       "      <td>30</td>\n",
       "      <td>0.4</td>\n",
       "      <td>37</td>\n",
       "    </tr>\n",
       "    <tr>\n",
       "      <th>10</th>\n",
       "      <td>17</td>\n",
       "      <td>0.118490</td>\n",
       "      <td>0.956283</td>\n",
       "      <td>0.103065</td>\n",
       "      <td>0.964772</td>\n",
       "      <td>Nadam</td>\n",
       "      <td>binary_crossentropy</td>\n",
       "      <td>16</td>\n",
       "      <td>32</td>\n",
       "      <td>30</td>\n",
       "      <td>0.3</td>\n",
       "      <td>10</td>\n",
       "    </tr>\n",
       "    <tr>\n",
       "      <th>33</th>\n",
       "      <td>15</td>\n",
       "      <td>0.125919</td>\n",
       "      <td>0.956114</td>\n",
       "      <td>0.097608</td>\n",
       "      <td>0.967809</td>\n",
       "      <td>Adam</td>\n",
       "      <td>binary_crossentropy</td>\n",
       "      <td>64</td>\n",
       "      <td>32</td>\n",
       "      <td>30</td>\n",
       "      <td>0.6</td>\n",
       "      <td>33</td>\n",
       "    </tr>\n",
       "    <tr>\n",
       "      <th>36</th>\n",
       "      <td>11</td>\n",
       "      <td>0.110069</td>\n",
       "      <td>0.955605</td>\n",
       "      <td>0.114877</td>\n",
       "      <td>0.958401</td>\n",
       "      <td>Nadam</td>\n",
       "      <td>binary_crossentropy</td>\n",
       "      <td>32</td>\n",
       "      <td>32</td>\n",
       "      <td>30</td>\n",
       "      <td>0.6</td>\n",
       "      <td>36</td>\n",
       "    </tr>\n",
       "    <tr>\n",
       "      <th>49</th>\n",
       "      <td>24</td>\n",
       "      <td>0.122187</td>\n",
       "      <td>0.955322</td>\n",
       "      <td>0.111921</td>\n",
       "      <td>0.957767</td>\n",
       "      <td>Adam</td>\n",
       "      <td>binary_crossentropy</td>\n",
       "      <td>16</td>\n",
       "      <td>16</td>\n",
       "      <td>30</td>\n",
       "      <td>0.6</td>\n",
       "      <td>49</td>\n",
       "    </tr>\n",
       "    <tr>\n",
       "      <th>56</th>\n",
       "      <td>11</td>\n",
       "      <td>0.119016</td>\n",
       "      <td>0.955265</td>\n",
       "      <td>0.081888</td>\n",
       "      <td>0.972388</td>\n",
       "      <td>Nadam</td>\n",
       "      <td>binary_crossentropy</td>\n",
       "      <td>32</td>\n",
       "      <td>32</td>\n",
       "      <td>30</td>\n",
       "      <td>0.4</td>\n",
       "      <td>56</td>\n",
       "    </tr>\n",
       "    <tr>\n",
       "      <th>52</th>\n",
       "      <td>18</td>\n",
       "      <td>0.139763</td>\n",
       "      <td>0.954304</td>\n",
       "      <td>0.091084</td>\n",
       "      <td>0.971980</td>\n",
       "      <td>Nadam</td>\n",
       "      <td>binary_crossentropy</td>\n",
       "      <td>16</td>\n",
       "      <td>32</td>\n",
       "      <td>30</td>\n",
       "      <td>0.4</td>\n",
       "      <td>52</td>\n",
       "    </tr>\n",
       "    <tr>\n",
       "      <th>43</th>\n",
       "      <td>16</td>\n",
       "      <td>0.130962</td>\n",
       "      <td>0.954247</td>\n",
       "      <td>0.089658</td>\n",
       "      <td>0.967152</td>\n",
       "      <td>Nadam</td>\n",
       "      <td>binary_crossentropy</td>\n",
       "      <td>16</td>\n",
       "      <td>16</td>\n",
       "      <td>30</td>\n",
       "      <td>0.4</td>\n",
       "      <td>43</td>\n",
       "    </tr>\n",
       "    <tr>\n",
       "      <th>32</th>\n",
       "      <td>8</td>\n",
       "      <td>0.132080</td>\n",
       "      <td>0.954021</td>\n",
       "      <td>0.077225</td>\n",
       "      <td>0.971686</td>\n",
       "      <td>Nadam</td>\n",
       "      <td>binary_crossentropy</td>\n",
       "      <td>64</td>\n",
       "      <td>16</td>\n",
       "      <td>30</td>\n",
       "      <td>0.3</td>\n",
       "      <td>32</td>\n",
       "    </tr>\n",
       "    <tr>\n",
       "      <th>29</th>\n",
       "      <td>20</td>\n",
       "      <td>0.137644</td>\n",
       "      <td>0.953795</td>\n",
       "      <td>0.077604</td>\n",
       "      <td>0.971572</td>\n",
       "      <td>Nadam</td>\n",
       "      <td>binary_crossentropy</td>\n",
       "      <td>16</td>\n",
       "      <td>16</td>\n",
       "      <td>30</td>\n",
       "      <td>0.5</td>\n",
       "      <td>29</td>\n",
       "    </tr>\n",
       "    <tr>\n",
       "      <th>50</th>\n",
       "      <td>7</td>\n",
       "      <td>0.128484</td>\n",
       "      <td>0.951702</td>\n",
       "      <td>0.128143</td>\n",
       "      <td>0.954502</td>\n",
       "      <td>Nadam</td>\n",
       "      <td>binary_crossentropy</td>\n",
       "      <td>32</td>\n",
       "      <td>16</td>\n",
       "      <td>30</td>\n",
       "      <td>0.6</td>\n",
       "      <td>50</td>\n",
       "    </tr>\n",
       "    <tr>\n",
       "      <th>39</th>\n",
       "      <td>7</td>\n",
       "      <td>0.138148</td>\n",
       "      <td>0.951306</td>\n",
       "      <td>0.171605</td>\n",
       "      <td>0.932785</td>\n",
       "      <td>Nadam</td>\n",
       "      <td>binary_crossentropy</td>\n",
       "      <td>64</td>\n",
       "      <td>16</td>\n",
       "      <td>30</td>\n",
       "      <td>0.7</td>\n",
       "      <td>39</td>\n",
       "    </tr>\n",
       "    <tr>\n",
       "      <th>2</th>\n",
       "      <td>25</td>\n",
       "      <td>0.131649</td>\n",
       "      <td>0.950967</td>\n",
       "      <td>0.120538</td>\n",
       "      <td>0.955137</td>\n",
       "      <td>Adam</td>\n",
       "      <td>binary_crossentropy</td>\n",
       "      <td>16</td>\n",
       "      <td>32</td>\n",
       "      <td>30</td>\n",
       "      <td>0.6</td>\n",
       "      <td>2</td>\n",
       "    </tr>\n",
       "    <tr>\n",
       "      <th>17</th>\n",
       "      <td>13</td>\n",
       "      <td>0.173621</td>\n",
       "      <td>0.940052</td>\n",
       "      <td>0.178881</td>\n",
       "      <td>0.917800</td>\n",
       "      <td>Adam</td>\n",
       "      <td>binary_crossentropy</td>\n",
       "      <td>32</td>\n",
       "      <td>32</td>\n",
       "      <td>30</td>\n",
       "      <td>0.7</td>\n",
       "      <td>17</td>\n",
       "    </tr>\n",
       "    <tr>\n",
       "      <th>47</th>\n",
       "      <td>13</td>\n",
       "      <td>0.177001</td>\n",
       "      <td>0.936489</td>\n",
       "      <td>0.133025</td>\n",
       "      <td>0.951691</td>\n",
       "      <td>Adam</td>\n",
       "      <td>binary_crossentropy</td>\n",
       "      <td>32</td>\n",
       "      <td>16</td>\n",
       "      <td>30</td>\n",
       "      <td>0.7</td>\n",
       "      <td>47</td>\n",
       "    </tr>\n",
       "    <tr>\n",
       "      <th>57</th>\n",
       "      <td>9</td>\n",
       "      <td>0.159413</td>\n",
       "      <td>0.933039</td>\n",
       "      <td>0.166979</td>\n",
       "      <td>0.935210</td>\n",
       "      <td>Nadam</td>\n",
       "      <td>binary_crossentropy</td>\n",
       "      <td>16</td>\n",
       "      <td>32</td>\n",
       "      <td>30</td>\n",
       "      <td>0.5</td>\n",
       "      <td>57</td>\n",
       "    </tr>\n",
       "    <tr>\n",
       "      <th>38</th>\n",
       "      <td>12</td>\n",
       "      <td>0.163500</td>\n",
       "      <td>0.930890</td>\n",
       "      <td>0.138881</td>\n",
       "      <td>0.933283</td>\n",
       "      <td>Adam</td>\n",
       "      <td>binary_crossentropy</td>\n",
       "      <td>16</td>\n",
       "      <td>16</td>\n",
       "      <td>30</td>\n",
       "      <td>0.5</td>\n",
       "      <td>38</td>\n",
       "    </tr>\n",
       "    <tr>\n",
       "      <th>23</th>\n",
       "      <td>7</td>\n",
       "      <td>0.170416</td>\n",
       "      <td>0.930212</td>\n",
       "      <td>0.178882</td>\n",
       "      <td>0.924669</td>\n",
       "      <td>Adam</td>\n",
       "      <td>binary_crossentropy</td>\n",
       "      <td>64</td>\n",
       "      <td>16</td>\n",
       "      <td>30</td>\n",
       "      <td>0.7</td>\n",
       "      <td>23</td>\n",
       "    </tr>\n",
       "    <tr>\n",
       "      <th>3</th>\n",
       "      <td>8</td>\n",
       "      <td>0.183931</td>\n",
       "      <td>0.920032</td>\n",
       "      <td>0.149868</td>\n",
       "      <td>0.932785</td>\n",
       "      <td>Nadam</td>\n",
       "      <td>binary_crossentropy</td>\n",
       "      <td>16</td>\n",
       "      <td>16</td>\n",
       "      <td>30</td>\n",
       "      <td>0.3</td>\n",
       "      <td>3</td>\n",
       "    </tr>\n",
       "    <tr>\n",
       "      <th>5</th>\n",
       "      <td>7</td>\n",
       "      <td>0.188940</td>\n",
       "      <td>0.916016</td>\n",
       "      <td>0.106760</td>\n",
       "      <td>0.963547</td>\n",
       "      <td>Nadam</td>\n",
       "      <td>binary_crossentropy</td>\n",
       "      <td>64</td>\n",
       "      <td>32</td>\n",
       "      <td>30</td>\n",
       "      <td>0.7</td>\n",
       "      <td>5</td>\n",
       "    </tr>\n",
       "    <tr>\n",
       "      <th>11</th>\n",
       "      <td>5</td>\n",
       "      <td>0.194425</td>\n",
       "      <td>0.915338</td>\n",
       "      <td>0.217454</td>\n",
       "      <td>0.910410</td>\n",
       "      <td>Nadam</td>\n",
       "      <td>binary_crossentropy</td>\n",
       "      <td>32</td>\n",
       "      <td>16</td>\n",
       "      <td>30</td>\n",
       "      <td>0.7</td>\n",
       "      <td>11</td>\n",
       "    </tr>\n",
       "    <tr>\n",
       "      <th>58</th>\n",
       "      <td>9</td>\n",
       "      <td>0.177829</td>\n",
       "      <td>0.912793</td>\n",
       "      <td>0.201641</td>\n",
       "      <td>0.907712</td>\n",
       "      <td>Nadam</td>\n",
       "      <td>binary_crossentropy</td>\n",
       "      <td>16</td>\n",
       "      <td>16</td>\n",
       "      <td>30</td>\n",
       "      <td>0.7</td>\n",
       "      <td>58</td>\n",
       "    </tr>\n",
       "    <tr>\n",
       "      <th>14</th>\n",
       "      <td>6</td>\n",
       "      <td>0.205933</td>\n",
       "      <td>0.910417</td>\n",
       "      <td>0.185619</td>\n",
       "      <td>0.920452</td>\n",
       "      <td>Adam</td>\n",
       "      <td>binary_crossentropy</td>\n",
       "      <td>64</td>\n",
       "      <td>32</td>\n",
       "      <td>30</td>\n",
       "      <td>0.3</td>\n",
       "      <td>14</td>\n",
       "    </tr>\n",
       "    <tr>\n",
       "      <th>20</th>\n",
       "      <td>14</td>\n",
       "      <td>0.201285</td>\n",
       "      <td>0.908777</td>\n",
       "      <td>0.184801</td>\n",
       "      <td>0.919319</td>\n",
       "      <td>Adam</td>\n",
       "      <td>binary_crossentropy</td>\n",
       "      <td>16</td>\n",
       "      <td>32</td>\n",
       "      <td>30</td>\n",
       "      <td>0.5</td>\n",
       "      <td>20</td>\n",
       "    </tr>\n",
       "    <tr>\n",
       "      <th>26</th>\n",
       "      <td>11</td>\n",
       "      <td>0.217224</td>\n",
       "      <td>0.905384</td>\n",
       "      <td>0.178903</td>\n",
       "      <td>0.919024</td>\n",
       "      <td>Adam</td>\n",
       "      <td>binary_crossentropy</td>\n",
       "      <td>16</td>\n",
       "      <td>32</td>\n",
       "      <td>30</td>\n",
       "      <td>0.4</td>\n",
       "      <td>26</td>\n",
       "    </tr>\n",
       "    <tr>\n",
       "      <th>53</th>\n",
       "      <td>6</td>\n",
       "      <td>0.201279</td>\n",
       "      <td>0.903518</td>\n",
       "      <td>0.206379</td>\n",
       "      <td>0.903722</td>\n",
       "      <td>Adam</td>\n",
       "      <td>binary_crossentropy</td>\n",
       "      <td>32</td>\n",
       "      <td>16</td>\n",
       "      <td>30</td>\n",
       "      <td>0.5</td>\n",
       "      <td>53</td>\n",
       "    </tr>\n",
       "    <tr>\n",
       "      <th>30</th>\n",
       "      <td>11</td>\n",
       "      <td>0.218327</td>\n",
       "      <td>0.898711</td>\n",
       "      <td>0.227540</td>\n",
       "      <td>0.895720</td>\n",
       "      <td>Adam</td>\n",
       "      <td>binary_crossentropy</td>\n",
       "      <td>16</td>\n",
       "      <td>16</td>\n",
       "      <td>30</td>\n",
       "      <td>0.7</td>\n",
       "      <td>30</td>\n",
       "    </tr>\n",
       "    <tr>\n",
       "      <th>27</th>\n",
       "      <td>14</td>\n",
       "      <td>0.210662</td>\n",
       "      <td>0.898711</td>\n",
       "      <td>0.215592</td>\n",
       "      <td>0.899211</td>\n",
       "      <td>Nadam</td>\n",
       "      <td>binary_crossentropy</td>\n",
       "      <td>16</td>\n",
       "      <td>32</td>\n",
       "      <td>30</td>\n",
       "      <td>0.7</td>\n",
       "      <td>27</td>\n",
       "    </tr>\n",
       "    <tr>\n",
       "      <th>45</th>\n",
       "      <td>23</td>\n",
       "      <td>0.215489</td>\n",
       "      <td>0.898258</td>\n",
       "      <td>0.209129</td>\n",
       "      <td>0.899279</td>\n",
       "      <td>Adam</td>\n",
       "      <td>binary_crossentropy</td>\n",
       "      <td>16</td>\n",
       "      <td>32</td>\n",
       "      <td>30</td>\n",
       "      <td>0.7</td>\n",
       "      <td>45</td>\n",
       "    </tr>\n",
       "    <tr>\n",
       "      <th>28</th>\n",
       "      <td>5</td>\n",
       "      <td>0.227056</td>\n",
       "      <td>0.897410</td>\n",
       "      <td>0.227075</td>\n",
       "      <td>0.901773</td>\n",
       "      <td>Adam</td>\n",
       "      <td>binary_crossentropy</td>\n",
       "      <td>16</td>\n",
       "      <td>16</td>\n",
       "      <td>30</td>\n",
       "      <td>0.4</td>\n",
       "      <td>28</td>\n",
       "    </tr>\n",
       "    <tr>\n",
       "      <th>8</th>\n",
       "      <td>11</td>\n",
       "      <td>0.224941</td>\n",
       "      <td>0.896788</td>\n",
       "      <td>0.212080</td>\n",
       "      <td>0.901093</td>\n",
       "      <td>Adam</td>\n",
       "      <td>binary_crossentropy</td>\n",
       "      <td>16</td>\n",
       "      <td>32</td>\n",
       "      <td>30</td>\n",
       "      <td>0.3</td>\n",
       "      <td>8</td>\n",
       "    </tr>\n",
       "    <tr>\n",
       "      <th>19</th>\n",
       "      <td>6</td>\n",
       "      <td>0.227992</td>\n",
       "      <td>0.895996</td>\n",
       "      <td>0.230468</td>\n",
       "      <td>0.898350</td>\n",
       "      <td>Nadam</td>\n",
       "      <td>binary_crossentropy</td>\n",
       "      <td>64</td>\n",
       "      <td>32</td>\n",
       "      <td>30</td>\n",
       "      <td>0.6</td>\n",
       "      <td>19</td>\n",
       "    </tr>\n",
       "    <tr>\n",
       "      <th>21</th>\n",
       "      <td>9</td>\n",
       "      <td>0.222351</td>\n",
       "      <td>0.895034</td>\n",
       "      <td>0.199421</td>\n",
       "      <td>0.906715</td>\n",
       "      <td>Adam</td>\n",
       "      <td>binary_crossentropy</td>\n",
       "      <td>32</td>\n",
       "      <td>32</td>\n",
       "      <td>30</td>\n",
       "      <td>0.6</td>\n",
       "      <td>21</td>\n",
       "    </tr>\n",
       "    <tr>\n",
       "      <th>35</th>\n",
       "      <td>7</td>\n",
       "      <td>0.237253</td>\n",
       "      <td>0.892433</td>\n",
       "      <td>0.239135</td>\n",
       "      <td>0.890143</td>\n",
       "      <td>Nadam</td>\n",
       "      <td>binary_crossentropy</td>\n",
       "      <td>16</td>\n",
       "      <td>32</td>\n",
       "      <td>30</td>\n",
       "      <td>0.6</td>\n",
       "      <td>35</td>\n",
       "    </tr>\n",
       "  </tbody>\n",
       "</table>\n",
       "</div>"
      ],
      "text/plain": [
       "    round_epochs  val_loss   val_acc      loss       acc optimizer  \\\n",
       "46            16  0.073264  0.972005  0.048190  0.981570     Nadam   \n",
       "51            15  0.087422  0.969969  0.047682  0.982658     Nadam   \n",
       "54            11  0.092216  0.968669  0.053887  0.979801      Adam   \n",
       "16            16  0.082590  0.968556  0.047794  0.981434      Adam   \n",
       "22            11  0.083716  0.968386  0.059781  0.977285     Nadam   \n",
       "41            13  0.099858  0.967085  0.052615  0.980368      Adam   \n",
       "24            18  0.096054  0.966859  0.071577  0.976106      Adam   \n",
       "4             11  0.096246  0.966633  0.064050  0.975812      Adam   \n",
       "48            14  0.077868  0.966576  0.059477  0.978260     Nadam   \n",
       "1              9  0.094286  0.965954  0.074021  0.973930     Nadam   \n",
       "31            10  0.091567  0.965784  0.060124  0.978577     Nadam   \n",
       "9             20  0.112652  0.965728  0.054970  0.979167      Adam   \n",
       "12            17  0.107473  0.965332  0.078462  0.973545     Nadam   \n",
       "6             16  0.090248  0.965332  0.055404  0.979597      Adam   \n",
       "25            20  0.084095  0.965332  0.062743  0.975902     Nadam   \n",
       "44            12  0.103979  0.964653  0.058094  0.978917     Nadam   \n",
       "18            12  0.102271  0.963748  0.060504  0.979008      Adam   \n",
       "55            10  0.100661  0.963579  0.070762  0.974814     Nadam   \n",
       "7             18  0.107544  0.963126  0.079529  0.973658      Adam   \n",
       "40            18  0.131322  0.961769  0.063406  0.977897      Adam   \n",
       "34            10  0.124447  0.961543  0.070800  0.977013     Nadam   \n",
       "59            29  0.100859  0.960581  0.061656  0.979031      Adam   \n",
       "42            17  0.124296  0.958998  0.067923  0.976922      Adam   \n",
       "13            12  0.116454  0.957527  0.108923  0.963819     Nadam   \n",
       "15            19  0.133781  0.957132  0.070478  0.974701      Adam   \n",
       "0             19  0.135219  0.956736  0.129088  0.952439     Nadam   \n",
       "37             9  0.126478  0.956566  0.074244  0.974655      Adam   \n",
       "10            17  0.118490  0.956283  0.103065  0.964772     Nadam   \n",
       "33            15  0.125919  0.956114  0.097608  0.967809      Adam   \n",
       "36            11  0.110069  0.955605  0.114877  0.958401     Nadam   \n",
       "49            24  0.122187  0.955322  0.111921  0.957767      Adam   \n",
       "56            11  0.119016  0.955265  0.081888  0.972388     Nadam   \n",
       "52            18  0.139763  0.954304  0.091084  0.971980     Nadam   \n",
       "43            16  0.130962  0.954247  0.089658  0.967152     Nadam   \n",
       "32             8  0.132080  0.954021  0.077225  0.971686     Nadam   \n",
       "29            20  0.137644  0.953795  0.077604  0.971572     Nadam   \n",
       "50             7  0.128484  0.951702  0.128143  0.954502     Nadam   \n",
       "39             7  0.138148  0.951306  0.171605  0.932785     Nadam   \n",
       "2             25  0.131649  0.950967  0.120538  0.955137      Adam   \n",
       "17            13  0.173621  0.940052  0.178881  0.917800      Adam   \n",
       "47            13  0.177001  0.936489  0.133025  0.951691      Adam   \n",
       "57             9  0.159413  0.933039  0.166979  0.935210     Nadam   \n",
       "38            12  0.163500  0.930890  0.138881  0.933283      Adam   \n",
       "23             7  0.170416  0.930212  0.178882  0.924669      Adam   \n",
       "3              8  0.183931  0.920032  0.149868  0.932785     Nadam   \n",
       "5              7  0.188940  0.916016  0.106760  0.963547     Nadam   \n",
       "11             5  0.194425  0.915338  0.217454  0.910410     Nadam   \n",
       "58             9  0.177829  0.912793  0.201641  0.907712     Nadam   \n",
       "14             6  0.205933  0.910417  0.185619  0.920452      Adam   \n",
       "20            14  0.201285  0.908777  0.184801  0.919319      Adam   \n",
       "26            11  0.217224  0.905384  0.178903  0.919024      Adam   \n",
       "53             6  0.201279  0.903518  0.206379  0.903722      Adam   \n",
       "30            11  0.218327  0.898711  0.227540  0.895720      Adam   \n",
       "27            14  0.210662  0.898711  0.215592  0.899211     Nadam   \n",
       "45            23  0.215489  0.898258  0.209129  0.899279      Adam   \n",
       "28             5  0.227056  0.897410  0.227075  0.901773      Adam   \n",
       "8             11  0.224941  0.896788  0.212080  0.901093      Adam   \n",
       "19             6  0.227992  0.895996  0.230468  0.898350     Nadam   \n",
       "21             9  0.222351  0.895034  0.199421  0.906715      Adam   \n",
       "35             7  0.237253  0.892433  0.239135  0.890143     Nadam   \n",
       "\n",
       "                 losses  first_neuron  batch_size  epochs  dropout  NaN  \n",
       "46  binary_crossentropy            64          16      30      0.5   46  \n",
       "51  binary_crossentropy            64          32      30      0.5   51  \n",
       "54  binary_crossentropy            64          16      30      0.3   54  \n",
       "16  binary_crossentropy            64          16      30      0.4   16  \n",
       "22  binary_crossentropy            64          16      30      0.4   22  \n",
       "41  binary_crossentropy            64          32      30      0.5   41  \n",
       "24  binary_crossentropy            64          32      30      0.7   24  \n",
       "4   binary_crossentropy            64          16      30      0.5    4  \n",
       "48  binary_crossentropy            32          16      30      0.3   48  \n",
       "1   binary_crossentropy            64          16      30      0.6    1  \n",
       "31  binary_crossentropy            64          32      30      0.3   31  \n",
       "9   binary_crossentropy            64          16      30      0.6    9  \n",
       "12  binary_crossentropy            32          32      30      0.7   12  \n",
       "6   binary_crossentropy            64          32      30      0.4    6  \n",
       "25  binary_crossentropy            32          16      30      0.4   25  \n",
       "44  binary_crossentropy            32          16      30      0.5   44  \n",
       "18  binary_crossentropy            32          16      30      0.3   18  \n",
       "55  binary_crossentropy            64          32      30      0.4   55  \n",
       "7   binary_crossentropy            32          16      30      0.6    7  \n",
       "40  binary_crossentropy            32          32      30      0.3   40  \n",
       "34  binary_crossentropy            32          32      30      0.3   34  \n",
       "59  binary_crossentropy            16          16      30      0.3   59  \n",
       "42  binary_crossentropy            32          32      30      0.5   42  \n",
       "13  binary_crossentropy            32          32      30      0.5   13  \n",
       "15  binary_crossentropy            32          32      30      0.4   15  \n",
       "0   binary_crossentropy            16          16      30      0.6    0  \n",
       "37  binary_crossentropy            32          16      30      0.4   37  \n",
       "10  binary_crossentropy            16          32      30      0.3   10  \n",
       "33  binary_crossentropy            64          32      30      0.6   33  \n",
       "36  binary_crossentropy            32          32      30      0.6   36  \n",
       "49  binary_crossentropy            16          16      30      0.6   49  \n",
       "56  binary_crossentropy            32          32      30      0.4   56  \n",
       "52  binary_crossentropy            16          32      30      0.4   52  \n",
       "43  binary_crossentropy            16          16      30      0.4   43  \n",
       "32  binary_crossentropy            64          16      30      0.3   32  \n",
       "29  binary_crossentropy            16          16      30      0.5   29  \n",
       "50  binary_crossentropy            32          16      30      0.6   50  \n",
       "39  binary_crossentropy            64          16      30      0.7   39  \n",
       "2   binary_crossentropy            16          32      30      0.6    2  \n",
       "17  binary_crossentropy            32          32      30      0.7   17  \n",
       "47  binary_crossentropy            32          16      30      0.7   47  \n",
       "57  binary_crossentropy            16          32      30      0.5   57  \n",
       "38  binary_crossentropy            16          16      30      0.5   38  \n",
       "23  binary_crossentropy            64          16      30      0.7   23  \n",
       "3   binary_crossentropy            16          16      30      0.3    3  \n",
       "5   binary_crossentropy            64          32      30      0.7    5  \n",
       "11  binary_crossentropy            32          16      30      0.7   11  \n",
       "58  binary_crossentropy            16          16      30      0.7   58  \n",
       "14  binary_crossentropy            64          32      30      0.3   14  \n",
       "20  binary_crossentropy            16          32      30      0.5   20  \n",
       "26  binary_crossentropy            16          32      30      0.4   26  \n",
       "53  binary_crossentropy            32          16      30      0.5   53  \n",
       "30  binary_crossentropy            16          16      30      0.7   30  \n",
       "27  binary_crossentropy            16          32      30      0.7   27  \n",
       "45  binary_crossentropy            16          32      30      0.7   45  \n",
       "28  binary_crossentropy            16          16      30      0.4   28  \n",
       "8   binary_crossentropy            16          32      30      0.3    8  \n",
       "19  binary_crossentropy            64          32      30      0.6   19  \n",
       "21  binary_crossentropy            32          32      30      0.6   21  \n",
       "35  binary_crossentropy            16          32      30      0.6   35  "
      ]
     },
     "execution_count": 50,
     "metadata": {},
     "output_type": "execute_result"
    }
   ],
   "source": [
    "h.data.sort_values('val_acc',ascending=False)"
   ]
  },
  {
   "cell_type": "markdown",
   "metadata": {},
   "source": [
    "#### For Best Model :\n",
    "1. Best Parameter : Optimizer = Nadam, Loss = binary_crossentropy, Neuron =\t64, Batch Size = 16, Epoch = 16, Dropout = 0.5.\n",
    "2. Trian Accuracy : 0.981570, Test Accuracy : 0.972005\n",
    "3. Train Loss : 0.048190, Test Loss : 0.073264"
   ]
  },
  {
   "cell_type": "markdown",
   "metadata": {},
   "source": [
    "## LSTM with 2 layers"
   ]
  },
  {
   "cell_type": "code",
   "execution_count": 57,
   "metadata": {
    "ExecuteTime": {
     "end_time": "2019-08-18T07:09:24.808773Z",
     "start_time": "2019-08-18T07:09:24.798779Z"
    }
   },
   "outputs": [],
   "source": [
    "def lstm_model_with_2_layer(x_train, y_train, x_val, y_val, params):\n",
    "    model = Sequential()\n",
    "    \n",
    "    model.add(LSTM(units=params['first_neuron'], input_shape=(timesteps, input_dim),return_sequences=True))\n",
    "    \n",
    "    model.add(Dropout(rate=params['dropout']))\n",
    "    \n",
    "    model.add(LSTM(units=params['second_neuron']))\n",
    "    \n",
    "    model.add(Dropout(rate=params['dropout']))\n",
    "    \n",
    "    model.add(Dense(n_classes, activation='softmax'))\n",
    "    \n",
    "    model.compile(optimizer=params['optimizer'],loss=params['losses'],metrics=['accuracy'])\n",
    "    \n",
    "    history = model.fit(x_train, y_train, validation_data=[x_val, y_val],batch_size=params['batch_size'],\n",
    "                        callbacks=[live(),early_stopper(params['epochs'])],epochs=params['epochs'],\n",
    "                        verbose=2)\n",
    "\n",
    "    return history, model"
   ]
  },
  {
   "cell_type": "code",
   "execution_count": 55,
   "metadata": {
    "ExecuteTime": {
     "end_time": "2019-08-18T07:07:46.231516Z",
     "start_time": "2019-08-18T07:07:46.226522Z"
    }
   },
   "outputs": [],
   "source": [
    "params1 = {\n",
    "    'optimizer': ['Adam','Nadam'],\n",
    "    'losses': ['binary_crossentropy'],\n",
    "    'first_neuron': [64],\n",
    "    'batch_size': [16,32],\n",
    "    'epochs': [30],\n",
    "    'second_neuron': [32,64],\n",
    "    'dropout': [0.4,0.5,0.7]\n",
    "}"
   ]
  },
  {
   "cell_type": "code",
   "execution_count": 58,
   "metadata": {
    "ExecuteTime": {
     "end_time": "2019-08-18T13:21:08.725754Z",
     "start_time": "2019-08-18T07:09:51.057937Z"
    }
   },
   "outputs": [
    {
     "data": {
      "image/png": "[encoded data removed]",
      "text/plain": [
       "<Figure size 864x576 with 2 Axes>"
      ]
     },
     "metadata": {},
     "output_type": "display_data"
    },
    {
     "name": "stderr",
     "output_type": "stream",
     "text": [
      "\n",
      "100%|██████████████████████████████████████████████████████████████████████████████| 24/24 [6:11:17<00:00, 1235.98s/it]"
     ]
    }
   ],
   "source": [
    "h2 = ta.Scan(x=X_train, y=Y_train,x_val=X_test, y_val=Y_test,\n",
    "          model=lstm_model_with_2_layer,\n",
    "          params=params1, search_method='random',\n",
    "          shuffle=True, dataset_name='UCI_HAR_Dataset',\n",
    "          experiment_no='2', seed=42)"
   ]
  },
  {
   "cell_type": "code",
   "execution_count": 59,
   "metadata": {
    "ExecuteTime": {
     "end_time": "2019-08-18T13:53:03.908913Z",
     "start_time": "2019-08-18T13:53:03.890923Z"
    }
   },
   "outputs": [
    {
     "data": {
      "text/plain": [
       "experiment_name        UCI_HAR_Dataset_2\n",
       "random_method           uniform_mersenne\n",
       "reduction_method                    None\n",
       "reduction_interval                    50\n",
       "reduction_window                      20\n",
       "grid_downsample                        1\n",
       "reduction_threshold                  0.2\n",
       "reduction_metric                 val_acc\n",
       "reduce_loss                        False\n",
       "complete_time             08/18/19/18:51\n",
       "x_shape                   (7352, 128, 9)\n",
       "y_shape                        (7352, 6)\n",
       "dtype: object"
      ]
     },
     "execution_count": 59,
     "metadata": {},
     "output_type": "execute_result"
    }
   ],
   "source": [
    "h2.details"
   ]
  },
  {
   "cell_type": "code",
   "execution_count": 60,
   "metadata": {
    "ExecuteTime": {
     "end_time": "2019-08-18T13:53:43.662419Z",
     "start_time": "2019-08-18T13:53:43.627440Z"
    }
   },
   "outputs": [
    {
     "data": {
      "text/html": [
       "<div>\n",
       "<style scoped>\n",
       "    .dataframe tbody tr th:only-of-type {\n",
       "        vertical-align: middle;\n",
       "    }\n",
       "\n",
       "    .dataframe tbody tr th {\n",
       "        vertical-align: top;\n",
       "    }\n",
       "\n",
       "    .dataframe thead th {\n",
       "        text-align: right;\n",
       "    }\n",
       "</style>\n",
       "<table border=\"1\" class=\"dataframe\">\n",
       "  <thead>\n",
       "    <tr style=\"text-align: right;\">\n",
       "      <th></th>\n",
       "      <th>round_epochs</th>\n",
       "      <th>val_loss</th>\n",
       "      <th>val_acc</th>\n",
       "      <th>loss</th>\n",
       "      <th>acc</th>\n",
       "      <th>optimizer</th>\n",
       "      <th>losses</th>\n",
       "      <th>first_neuron</th>\n",
       "      <th>batch_size</th>\n",
       "      <th>epochs</th>\n",
       "      <th>second_neuron</th>\n",
       "      <th>dropout</th>\n",
       "    </tr>\n",
       "  </thead>\n",
       "  <tbody>\n",
       "    <tr>\n",
       "      <th>0</th>\n",
       "      <td>4</td>\n",
       "      <td>0.177022</td>\n",
       "      <td>0.923199</td>\n",
       "      <td>0.241181</td>\n",
       "      <td>0.892184</td>\n",
       "      <td>Adam</td>\n",
       "      <td>binary_crossentropy</td>\n",
       "      <td>64</td>\n",
       "      <td>16</td>\n",
       "      <td>30</td>\n",
       "      <td>64</td>\n",
       "      <td>0.4</td>\n",
       "    </tr>\n",
       "    <tr>\n",
       "      <th>1</th>\n",
       "      <td>7</td>\n",
       "      <td>0.117321</td>\n",
       "      <td>0.960129</td>\n",
       "      <td>0.112674</td>\n",
       "      <td>0.964477</td>\n",
       "      <td>Nadam</td>\n",
       "      <td>binary_crossentropy</td>\n",
       "      <td>64</td>\n",
       "      <td>32</td>\n",
       "      <td>30</td>\n",
       "      <td>32</td>\n",
       "      <td>0.7</td>\n",
       "    </tr>\n",
       "    <tr>\n",
       "      <th>2</th>\n",
       "      <td>11</td>\n",
       "      <td>0.094689</td>\n",
       "      <td>0.965219</td>\n",
       "      <td>0.051301</td>\n",
       "      <td>0.981048</td>\n",
       "      <td>Adam</td>\n",
       "      <td>binary_crossentropy</td>\n",
       "      <td>64</td>\n",
       "      <td>32</td>\n",
       "      <td>30</td>\n",
       "      <td>32</td>\n",
       "      <td>0.4</td>\n",
       "    </tr>\n",
       "    <tr>\n",
       "      <th>3</th>\n",
       "      <td>15</td>\n",
       "      <td>0.087462</td>\n",
       "      <td>0.967255</td>\n",
       "      <td>0.051232</td>\n",
       "      <td>0.980980</td>\n",
       "      <td>Adam</td>\n",
       "      <td>binary_crossentropy</td>\n",
       "      <td>64</td>\n",
       "      <td>16</td>\n",
       "      <td>30</td>\n",
       "      <td>32</td>\n",
       "      <td>0.5</td>\n",
       "    </tr>\n",
       "    <tr>\n",
       "      <th>4</th>\n",
       "      <td>6</td>\n",
       "      <td>0.117353</td>\n",
       "      <td>0.961995</td>\n",
       "      <td>0.071314</td>\n",
       "      <td>0.976900</td>\n",
       "      <td>Nadam</td>\n",
       "      <td>binary_crossentropy</td>\n",
       "      <td>64</td>\n",
       "      <td>16</td>\n",
       "      <td>30</td>\n",
       "      <td>64</td>\n",
       "      <td>0.7</td>\n",
       "    </tr>\n",
       "  </tbody>\n",
       "</table>\n",
       "</div>"
      ],
      "text/plain": [
       "   round_epochs  val_loss   val_acc      loss       acc optimizer  \\\n",
       "0             4  0.177022  0.923199  0.241181  0.892184      Adam   \n",
       "1             7  0.117321  0.960129  0.112674  0.964477     Nadam   \n",
       "2            11  0.094689  0.965219  0.051301  0.981048      Adam   \n",
       "3            15  0.087462  0.967255  0.051232  0.980980      Adam   \n",
       "4             6  0.117353  0.961995  0.071314  0.976900     Nadam   \n",
       "\n",
       "                losses  first_neuron  batch_size  epochs  second_neuron  \\\n",
       "0  binary_crossentropy            64          16      30             64   \n",
       "1  binary_crossentropy            64          32      30             32   \n",
       "2  binary_crossentropy            64          32      30             32   \n",
       "3  binary_crossentropy            64          16      30             32   \n",
       "4  binary_crossentropy            64          16      30             64   \n",
       "\n",
       "   dropout  \n",
       "0      0.4  \n",
       "1      0.7  \n",
       "2      0.4  \n",
       "3      0.5  \n",
       "4      0.7  "
      ]
     },
     "execution_count": 60,
     "metadata": {},
     "output_type": "execute_result"
    }
   ],
   "source": [
    "h2.data.head(5)"
   ]
  },
  {
   "cell_type": "code",
   "execution_count": 61,
   "metadata": {
    "ExecuteTime": {
     "end_time": "2019-08-18T13:54:30.182649Z",
     "start_time": "2019-08-18T13:54:29.628703Z"
    }
   },
   "outputs": [
    {
     "data": {
      "image/png": "[encoded data removed]",
      "text/plain": [
       "<Figure size 720x475.2 with 1 Axes>"
      ]
     },
     "metadata": {},
     "output_type": "display_data"
    },
    {
     "data": {
      "image/png": "[encoded data removed]",
      "text/plain": [
       "<Figure size 576x576 with 2 Axes>"
      ]
     },
     "metadata": {},
     "output_type": "display_data"
    }
   ],
   "source": [
    "%matplotlib inline\n",
    "r2 = ta.Reporting(h2)\n",
    "# a simple histogram \n",
    "r2.plot_hist(bins=10)\n",
    "# heatmap correlation\n",
    "r2.plot_corr()"
   ]
  },
  {
   "cell_type": "code",
   "execution_count": 62,
   "metadata": {
    "ExecuteTime": {
     "end_time": "2019-08-18T13:57:57.760278Z",
     "start_time": "2019-08-18T13:57:56.076223Z"
    }
   },
   "outputs": [
    {
     "data": {
      "image/png": "[encoded data removed]",
      "text/plain": [
       "<Figure size 1256.38x288 with 3 Axes>"
      ]
     },
     "metadata": {},
     "output_type": "display_data"
    },
    {
     "data": {
      "image/png": "[encoded data removed]",
      "text/plain": [
       "<Figure size 1256.38x288 with 3 Axes>"
      ]
     },
     "metadata": {},
     "output_type": "display_data"
    }
   ],
   "source": [
    "r2.plot_bars('batch_size', 'val_acc', 'second_neuron', 'dropout')\n",
    "r2.plot_bars('batch_size', 'acc', 'second_neuron', 'dropout')"
   ]
  },
  {
   "cell_type": "code",
   "execution_count": 63,
   "metadata": {
    "ExecuteTime": {
     "end_time": "2019-08-18T13:58:48.270809Z",
     "start_time": "2019-08-18T13:58:47.771096Z"
    }
   },
   "outputs": [
    {
     "data": {
      "image/png": "[encoded data removed]",
      "text/plain": [
       "<Figure size 864x475.2 with 1 Axes>"
      ]
     },
     "metadata": {},
     "output_type": "display_data"
    },
    {
     "data": {
      "image/png": "[encoded data removed]",
      "text/plain": [
       "<Figure size 864x475.2 with 1 Axes>"
      ]
     },
     "metadata": {},
     "output_type": "display_data"
    }
   ],
   "source": [
    "# line plot\n",
    "r2.plot_line(metric='acc')\n",
    "r2.plot_line(metric='val_acc')"
   ]
  },
  {
   "cell_type": "code",
   "execution_count": 64,
   "metadata": {
    "ExecuteTime": {
     "end_time": "2019-08-18T14:00:01.821876Z",
     "start_time": "2019-08-18T13:59:59.719077Z"
    }
   },
   "outputs": [
    {
     "data": {
      "image/png": "[encoded data removed]",
      "text/plain": [
       "<Figure size 720x475.2 with 1 Axes>"
      ]
     },
     "metadata": {},
     "output_type": "display_data"
    },
    {
     "data": {
      "image/png": "[encoded data removed]",
      "text/plain": [
       "<Figure size 720x475.2 with 1 Axes>"
      ]
     },
     "metadata": {},
     "output_type": "display_data"
    }
   ],
   "source": [
    "r2.plot_kde('val_acc','dropout')\n",
    "r2.plot_kde('acc','dropout')"
   ]
  },
  {
   "cell_type": "code",
   "execution_count": 65,
   "metadata": {
    "ExecuteTime": {
     "end_time": "2019-08-18T14:00:46.760853Z",
     "start_time": "2019-08-18T14:00:46.741848Z"
    }
   },
   "outputs": [
    {
     "data": {
      "text/plain": [
       "array([[32, 'Adam', 'binary_crossentropy', 0.7, 16, 22, 30, 64, 0],\n",
       "       [32, 'Nadam', 'binary_crossentropy', 0.5, 16, 8, 30, 64, 1],\n",
       "       [32, 'Nadam', 'binary_crossentropy', 0.4, 16, 17, 30, 64, 2],\n",
       "       [64, 'Adam', 'binary_crossentropy', 0.4, 32, 21, 30, 64, 3],\n",
       "       [32, 'Adam', 'binary_crossentropy', 0.5, 16, 3, 30, 64, 4],\n",
       "       [64, 'Adam', 'binary_crossentropy', 0.7, 32, 19, 30, 64, 5],\n",
       "       [32, 'Adam', 'binary_crossentropy', 0.4, 32, 2, 30, 64, 6],\n",
       "       [32, 'Adam', 'binary_crossentropy', 0.4, 16, 20, 30, 64, 7],\n",
       "       [32, 'Adam', 'binary_crossentropy', 0.5, 32, 23, 30, 64, 8],\n",
       "       [64, 'Adam', 'binary_crossentropy', 0.7, 16, 11, 30, 64, 9]],\n",
       "      dtype=object)"
      ]
     },
     "execution_count": 65,
     "metadata": {},
     "output_type": "execute_result"
    }
   ],
   "source": [
    "# get the best paramaters\n",
    "r2.best_params()"
   ]
  },
  {
   "cell_type": "code",
   "execution_count": 66,
   "metadata": {
    "ExecuteTime": {
     "end_time": "2019-08-18T14:01:40.997956Z",
     "start_time": "2019-08-18T14:01:40.965974Z"
    }
   },
   "outputs": [
    {
     "data": {
      "text/html": [
       "<div>\n",
       "<style scoped>\n",
       "    .dataframe tbody tr th:only-of-type {\n",
       "        vertical-align: middle;\n",
       "    }\n",
       "\n",
       "    .dataframe tbody tr th {\n",
       "        vertical-align: top;\n",
       "    }\n",
       "\n",
       "    .dataframe thead th {\n",
       "        text-align: right;\n",
       "    }\n",
       "</style>\n",
       "<table border=\"1\" class=\"dataframe\">\n",
       "  <thead>\n",
       "    <tr style=\"text-align: right;\">\n",
       "      <th></th>\n",
       "      <th>round_epochs</th>\n",
       "      <th>val_loss</th>\n",
       "      <th>val_acc</th>\n",
       "      <th>loss</th>\n",
       "      <th>acc</th>\n",
       "      <th>optimizer</th>\n",
       "      <th>losses</th>\n",
       "      <th>first_neuron</th>\n",
       "      <th>batch_size</th>\n",
       "      <th>epochs</th>\n",
       "      <th>second_neuron</th>\n",
       "      <th>dropout</th>\n",
       "      <th>None</th>\n",
       "    </tr>\n",
       "  </thead>\n",
       "  <tbody>\n",
       "    <tr>\n",
       "      <th>22</th>\n",
       "      <td>13</td>\n",
       "      <td>0.082830</td>\n",
       "      <td>0.973476</td>\n",
       "      <td>0.070676</td>\n",
       "      <td>0.977444</td>\n",
       "      <td>Adam</td>\n",
       "      <td>binary_crossentropy</td>\n",
       "      <td>64</td>\n",
       "      <td>16</td>\n",
       "      <td>30</td>\n",
       "      <td>32</td>\n",
       "      <td>0.7</td>\n",
       "      <td>22</td>\n",
       "    </tr>\n",
       "    <tr>\n",
       "      <th>8</th>\n",
       "      <td>11</td>\n",
       "      <td>0.083986</td>\n",
       "      <td>0.971044</td>\n",
       "      <td>0.057484</td>\n",
       "      <td>0.978668</td>\n",
       "      <td>Nadam</td>\n",
       "      <td>binary_crossentropy</td>\n",
       "      <td>64</td>\n",
       "      <td>16</td>\n",
       "      <td>30</td>\n",
       "      <td>32</td>\n",
       "      <td>0.5</td>\n",
       "      <td>8</td>\n",
       "    </tr>\n",
       "    <tr>\n",
       "      <th>17</th>\n",
       "      <td>13</td>\n",
       "      <td>0.087161</td>\n",
       "      <td>0.970648</td>\n",
       "      <td>0.046134</td>\n",
       "      <td>0.982499</td>\n",
       "      <td>Nadam</td>\n",
       "      <td>binary_crossentropy</td>\n",
       "      <td>64</td>\n",
       "      <td>16</td>\n",
       "      <td>30</td>\n",
       "      <td>32</td>\n",
       "      <td>0.4</td>\n",
       "      <td>17</td>\n",
       "    </tr>\n",
       "    <tr>\n",
       "      <th>21</th>\n",
       "      <td>14</td>\n",
       "      <td>0.095547</td>\n",
       "      <td>0.967368</td>\n",
       "      <td>0.041268</td>\n",
       "      <td>0.982476</td>\n",
       "      <td>Adam</td>\n",
       "      <td>binary_crossentropy</td>\n",
       "      <td>64</td>\n",
       "      <td>32</td>\n",
       "      <td>30</td>\n",
       "      <td>64</td>\n",
       "      <td>0.4</td>\n",
       "      <td>21</td>\n",
       "    </tr>\n",
       "    <tr>\n",
       "      <th>3</th>\n",
       "      <td>15</td>\n",
       "      <td>0.087462</td>\n",
       "      <td>0.967255</td>\n",
       "      <td>0.051232</td>\n",
       "      <td>0.980980</td>\n",
       "      <td>Adam</td>\n",
       "      <td>binary_crossentropy</td>\n",
       "      <td>64</td>\n",
       "      <td>16</td>\n",
       "      <td>30</td>\n",
       "      <td>32</td>\n",
       "      <td>0.5</td>\n",
       "      <td>3</td>\n",
       "    </tr>\n",
       "    <tr>\n",
       "      <th>19</th>\n",
       "      <td>18</td>\n",
       "      <td>0.099469</td>\n",
       "      <td>0.965558</td>\n",
       "      <td>0.059289</td>\n",
       "      <td>0.978917</td>\n",
       "      <td>Adam</td>\n",
       "      <td>binary_crossentropy</td>\n",
       "      <td>64</td>\n",
       "      <td>32</td>\n",
       "      <td>30</td>\n",
       "      <td>64</td>\n",
       "      <td>0.7</td>\n",
       "      <td>19</td>\n",
       "    </tr>\n",
       "    <tr>\n",
       "      <th>2</th>\n",
       "      <td>11</td>\n",
       "      <td>0.094689</td>\n",
       "      <td>0.965219</td>\n",
       "      <td>0.051301</td>\n",
       "      <td>0.981048</td>\n",
       "      <td>Adam</td>\n",
       "      <td>binary_crossentropy</td>\n",
       "      <td>64</td>\n",
       "      <td>32</td>\n",
       "      <td>30</td>\n",
       "      <td>32</td>\n",
       "      <td>0.4</td>\n",
       "      <td>2</td>\n",
       "    </tr>\n",
       "    <tr>\n",
       "      <th>20</th>\n",
       "      <td>9</td>\n",
       "      <td>0.103864</td>\n",
       "      <td>0.964880</td>\n",
       "      <td>0.055018</td>\n",
       "      <td>0.979915</td>\n",
       "      <td>Adam</td>\n",
       "      <td>binary_crossentropy</td>\n",
       "      <td>64</td>\n",
       "      <td>16</td>\n",
       "      <td>30</td>\n",
       "      <td>32</td>\n",
       "      <td>0.4</td>\n",
       "      <td>20</td>\n",
       "    </tr>\n",
       "    <tr>\n",
       "      <th>23</th>\n",
       "      <td>14</td>\n",
       "      <td>0.107265</td>\n",
       "      <td>0.964653</td>\n",
       "      <td>0.057808</td>\n",
       "      <td>0.979756</td>\n",
       "      <td>Adam</td>\n",
       "      <td>binary_crossentropy</td>\n",
       "      <td>64</td>\n",
       "      <td>32</td>\n",
       "      <td>30</td>\n",
       "      <td>32</td>\n",
       "      <td>0.5</td>\n",
       "      <td>23</td>\n",
       "    </tr>\n",
       "    <tr>\n",
       "      <th>11</th>\n",
       "      <td>7</td>\n",
       "      <td>0.118157</td>\n",
       "      <td>0.964484</td>\n",
       "      <td>0.055836</td>\n",
       "      <td>0.981910</td>\n",
       "      <td>Adam</td>\n",
       "      <td>binary_crossentropy</td>\n",
       "      <td>64</td>\n",
       "      <td>16</td>\n",
       "      <td>30</td>\n",
       "      <td>64</td>\n",
       "      <td>0.7</td>\n",
       "      <td>11</td>\n",
       "    </tr>\n",
       "    <tr>\n",
       "      <th>10</th>\n",
       "      <td>9</td>\n",
       "      <td>0.106150</td>\n",
       "      <td>0.963918</td>\n",
       "      <td>0.057859</td>\n",
       "      <td>0.978555</td>\n",
       "      <td>Adam</td>\n",
       "      <td>binary_crossentropy</td>\n",
       "      <td>64</td>\n",
       "      <td>16</td>\n",
       "      <td>30</td>\n",
       "      <td>64</td>\n",
       "      <td>0.5</td>\n",
       "      <td>10</td>\n",
       "    </tr>\n",
       "    <tr>\n",
       "      <th>14</th>\n",
       "      <td>10</td>\n",
       "      <td>0.103269</td>\n",
       "      <td>0.963692</td>\n",
       "      <td>0.058097</td>\n",
       "      <td>0.978917</td>\n",
       "      <td>Adam</td>\n",
       "      <td>binary_crossentropy</td>\n",
       "      <td>64</td>\n",
       "      <td>32</td>\n",
       "      <td>30</td>\n",
       "      <td>64</td>\n",
       "      <td>0.5</td>\n",
       "      <td>14</td>\n",
       "    </tr>\n",
       "    <tr>\n",
       "      <th>4</th>\n",
       "      <td>6</td>\n",
       "      <td>0.117353</td>\n",
       "      <td>0.961995</td>\n",
       "      <td>0.071314</td>\n",
       "      <td>0.976900</td>\n",
       "      <td>Nadam</td>\n",
       "      <td>binary_crossentropy</td>\n",
       "      <td>64</td>\n",
       "      <td>16</td>\n",
       "      <td>30</td>\n",
       "      <td>64</td>\n",
       "      <td>0.7</td>\n",
       "      <td>4</td>\n",
       "    </tr>\n",
       "    <tr>\n",
       "      <th>15</th>\n",
       "      <td>7</td>\n",
       "      <td>0.121961</td>\n",
       "      <td>0.960468</td>\n",
       "      <td>0.066193</td>\n",
       "      <td>0.977353</td>\n",
       "      <td>Nadam</td>\n",
       "      <td>binary_crossentropy</td>\n",
       "      <td>64</td>\n",
       "      <td>32</td>\n",
       "      <td>30</td>\n",
       "      <td>32</td>\n",
       "      <td>0.5</td>\n",
       "      <td>15</td>\n",
       "    </tr>\n",
       "    <tr>\n",
       "      <th>1</th>\n",
       "      <td>7</td>\n",
       "      <td>0.117321</td>\n",
       "      <td>0.960129</td>\n",
       "      <td>0.112674</td>\n",
       "      <td>0.964477</td>\n",
       "      <td>Nadam</td>\n",
       "      <td>binary_crossentropy</td>\n",
       "      <td>64</td>\n",
       "      <td>32</td>\n",
       "      <td>30</td>\n",
       "      <td>32</td>\n",
       "      <td>0.7</td>\n",
       "      <td>1</td>\n",
       "    </tr>\n",
       "    <tr>\n",
       "      <th>16</th>\n",
       "      <td>8</td>\n",
       "      <td>0.132895</td>\n",
       "      <td>0.959281</td>\n",
       "      <td>0.057965</td>\n",
       "      <td>0.978555</td>\n",
       "      <td>Nadam</td>\n",
       "      <td>binary_crossentropy</td>\n",
       "      <td>64</td>\n",
       "      <td>16</td>\n",
       "      <td>30</td>\n",
       "      <td>64</td>\n",
       "      <td>0.4</td>\n",
       "      <td>16</td>\n",
       "    </tr>\n",
       "    <tr>\n",
       "      <th>13</th>\n",
       "      <td>7</td>\n",
       "      <td>0.131776</td>\n",
       "      <td>0.951702</td>\n",
       "      <td>0.151322</td>\n",
       "      <td>0.933170</td>\n",
       "      <td>Nadam</td>\n",
       "      <td>binary_crossentropy</td>\n",
       "      <td>64</td>\n",
       "      <td>32</td>\n",
       "      <td>30</td>\n",
       "      <td>64</td>\n",
       "      <td>0.7</td>\n",
       "      <td>13</td>\n",
       "    </tr>\n",
       "    <tr>\n",
       "      <th>6</th>\n",
       "      <td>5</td>\n",
       "      <td>0.130631</td>\n",
       "      <td>0.950515</td>\n",
       "      <td>0.090393</td>\n",
       "      <td>0.968557</td>\n",
       "      <td>Nadam</td>\n",
       "      <td>binary_crossentropy</td>\n",
       "      <td>64</td>\n",
       "      <td>32</td>\n",
       "      <td>30</td>\n",
       "      <td>64</td>\n",
       "      <td>0.5</td>\n",
       "      <td>6</td>\n",
       "    </tr>\n",
       "    <tr>\n",
       "      <th>5</th>\n",
       "      <td>6</td>\n",
       "      <td>0.131811</td>\n",
       "      <td>0.947517</td>\n",
       "      <td>0.125045</td>\n",
       "      <td>0.953210</td>\n",
       "      <td>Nadam</td>\n",
       "      <td>binary_crossentropy</td>\n",
       "      <td>64</td>\n",
       "      <td>16</td>\n",
       "      <td>30</td>\n",
       "      <td>64</td>\n",
       "      <td>0.5</td>\n",
       "      <td>5</td>\n",
       "    </tr>\n",
       "    <tr>\n",
       "      <th>0</th>\n",
       "      <td>4</td>\n",
       "      <td>0.177022</td>\n",
       "      <td>0.923199</td>\n",
       "      <td>0.241181</td>\n",
       "      <td>0.892184</td>\n",
       "      <td>Adam</td>\n",
       "      <td>binary_crossentropy</td>\n",
       "      <td>64</td>\n",
       "      <td>16</td>\n",
       "      <td>30</td>\n",
       "      <td>64</td>\n",
       "      <td>0.4</td>\n",
       "      <td>0</td>\n",
       "    </tr>\n",
       "    <tr>\n",
       "      <th>9</th>\n",
       "      <td>5</td>\n",
       "      <td>0.193819</td>\n",
       "      <td>0.918278</td>\n",
       "      <td>0.194368</td>\n",
       "      <td>0.910319</td>\n",
       "      <td>Adam</td>\n",
       "      <td>binary_crossentropy</td>\n",
       "      <td>64</td>\n",
       "      <td>32</td>\n",
       "      <td>30</td>\n",
       "      <td>32</td>\n",
       "      <td>0.7</td>\n",
       "      <td>9</td>\n",
       "    </tr>\n",
       "    <tr>\n",
       "      <th>12</th>\n",
       "      <td>6</td>\n",
       "      <td>0.204639</td>\n",
       "      <td>0.909908</td>\n",
       "      <td>0.199577</td>\n",
       "      <td>0.913448</td>\n",
       "      <td>Nadam</td>\n",
       "      <td>binary_crossentropy</td>\n",
       "      <td>64</td>\n",
       "      <td>32</td>\n",
       "      <td>30</td>\n",
       "      <td>64</td>\n",
       "      <td>0.4</td>\n",
       "      <td>12</td>\n",
       "    </tr>\n",
       "    <tr>\n",
       "      <th>7</th>\n",
       "      <td>4</td>\n",
       "      <td>0.231793</td>\n",
       "      <td>0.895543</td>\n",
       "      <td>0.274657</td>\n",
       "      <td>0.881211</td>\n",
       "      <td>Nadam</td>\n",
       "      <td>binary_crossentropy</td>\n",
       "      <td>64</td>\n",
       "      <td>32</td>\n",
       "      <td>30</td>\n",
       "      <td>32</td>\n",
       "      <td>0.4</td>\n",
       "      <td>7</td>\n",
       "    </tr>\n",
       "    <tr>\n",
       "      <th>18</th>\n",
       "      <td>4</td>\n",
       "      <td>0.369794</td>\n",
       "      <td>0.862176</td>\n",
       "      <td>0.323508</td>\n",
       "      <td>0.866930</td>\n",
       "      <td>Nadam</td>\n",
       "      <td>binary_crossentropy</td>\n",
       "      <td>64</td>\n",
       "      <td>16</td>\n",
       "      <td>30</td>\n",
       "      <td>32</td>\n",
       "      <td>0.7</td>\n",
       "      <td>18</td>\n",
       "    </tr>\n",
       "  </tbody>\n",
       "</table>\n",
       "</div>"
      ],
      "text/plain": [
       "    round_epochs  val_loss   val_acc      loss       acc optimizer  \\\n",
       "22            13  0.082830  0.973476  0.070676  0.977444      Adam   \n",
       "8             11  0.083986  0.971044  0.057484  0.978668     Nadam   \n",
       "17            13  0.087161  0.970648  0.046134  0.982499     Nadam   \n",
       "21            14  0.095547  0.967368  0.041268  0.982476      Adam   \n",
       "3             15  0.087462  0.967255  0.051232  0.980980      Adam   \n",
       "19            18  0.099469  0.965558  0.059289  0.978917      Adam   \n",
       "2             11  0.094689  0.965219  0.051301  0.981048      Adam   \n",
       "20             9  0.103864  0.964880  0.055018  0.979915      Adam   \n",
       "23            14  0.107265  0.964653  0.057808  0.979756      Adam   \n",
       "11             7  0.118157  0.964484  0.055836  0.981910      Adam   \n",
       "10             9  0.106150  0.963918  0.057859  0.978555      Adam   \n",
       "14            10  0.103269  0.963692  0.058097  0.978917      Adam   \n",
       "4              6  0.117353  0.961995  0.071314  0.976900     Nadam   \n",
       "15             7  0.121961  0.960468  0.066193  0.977353     Nadam   \n",
       "1              7  0.117321  0.960129  0.112674  0.964477     Nadam   \n",
       "16             8  0.132895  0.959281  0.057965  0.978555     Nadam   \n",
       "13             7  0.131776  0.951702  0.151322  0.933170     Nadam   \n",
       "6              5  0.130631  0.950515  0.090393  0.968557     Nadam   \n",
       "5              6  0.131811  0.947517  0.125045  0.953210     Nadam   \n",
       "0              4  0.177022  0.923199  0.241181  0.892184      Adam   \n",
       "9              5  0.193819  0.918278  0.194368  0.910319      Adam   \n",
       "12             6  0.204639  0.909908  0.199577  0.913448     Nadam   \n",
       "7              4  0.231793  0.895543  0.274657  0.881211     Nadam   \n",
       "18             4  0.369794  0.862176  0.323508  0.866930     Nadam   \n",
       "\n",
       "                 losses  first_neuron  batch_size  epochs  second_neuron  \\\n",
       "22  binary_crossentropy            64          16      30             32   \n",
       "8   binary_crossentropy            64          16      30             32   \n",
       "17  binary_crossentropy            64          16      30             32   \n",
       "21  binary_crossentropy            64          32      30             64   \n",
       "3   binary_crossentropy            64          16      30             32   \n",
       "19  binary_crossentropy            64          32      30             64   \n",
       "2   binary_crossentropy            64          32      30             32   \n",
       "20  binary_crossentropy            64          16      30             32   \n",
       "23  binary_crossentropy            64          32      30             32   \n",
       "11  binary_crossentropy            64          16      30             64   \n",
       "10  binary_crossentropy            64          16      30             64   \n",
       "14  binary_crossentropy            64          32      30             64   \n",
       "4   binary_crossentropy            64          16      30             64   \n",
       "15  binary_crossentropy            64          32      30             32   \n",
       "1   binary_crossentropy            64          32      30             32   \n",
       "16  binary_crossentropy            64          16      30             64   \n",
       "13  binary_crossentropy            64          32      30             64   \n",
       "6   binary_crossentropy            64          32      30             64   \n",
       "5   binary_crossentropy            64          16      30             64   \n",
       "0   binary_crossentropy            64          16      30             64   \n",
       "9   binary_crossentropy            64          32      30             32   \n",
       "12  binary_crossentropy            64          32      30             64   \n",
       "7   binary_crossentropy            64          32      30             32   \n",
       "18  binary_crossentropy            64          16      30             32   \n",
       "\n",
       "    dropout  NaN  \n",
       "22      0.7   22  \n",
       "8       0.5    8  \n",
       "17      0.4   17  \n",
       "21      0.4   21  \n",
       "3       0.5    3  \n",
       "19      0.7   19  \n",
       "2       0.4    2  \n",
       "20      0.4   20  \n",
       "23      0.5   23  \n",
       "11      0.7   11  \n",
       "10      0.5   10  \n",
       "14      0.5   14  \n",
       "4       0.7    4  \n",
       "15      0.5   15  \n",
       "1       0.7    1  \n",
       "16      0.4   16  \n",
       "13      0.7   13  \n",
       "6       0.5    6  \n",
       "5       0.5    5  \n",
       "0       0.4    0  \n",
       "9       0.7    9  \n",
       "12      0.4   12  \n",
       "7       0.4    7  \n",
       "18      0.7   18  "
      ]
     },
     "execution_count": 66,
     "metadata": {},
     "output_type": "execute_result"
    }
   ],
   "source": [
    "h2.data.sort_values('val_acc',ascending=False)"
   ]
  },
  {
   "cell_type": "markdown",
   "metadata": {},
   "source": [
    "#### For Best Model :\n",
    "1. Best Parameter : Optimizer = Adam, Loss = binary_crossentropy, 1Neuron = 64, 2Neuron = 32, Batch Size = 16, Epoch = 13, Dropout = 0.7.\n",
    "2. Trian Accuracy : 0.977444, Test Accuracy : 0.973476\n",
    "3. Train Loss : 0.070676, Test Loss : 0.082830"
   ]
  },
  {
   "cell_type": "code",
   "execution_count": 67,
   "metadata": {
    "ExecuteTime": {
     "end_time": "2019-08-18T14:15:21.664750Z",
     "start_time": "2019-08-18T14:15:21.483855Z"
    }
   },
   "outputs": [
    {
     "data": {
      "text/markdown": [
       "****Final Conclusion:****"
      ],
      "text/plain": [
       "<IPython.core.display.Markdown object>"
      ]
     },
     "metadata": {},
     "output_type": "display_data"
    },
    {
     "name": "stdout",
     "output_type": "stream",
     "text": [
      "+-------------+-----------+-----------+----------+------------+-----------+\n",
      "|    Model    | Optimizer | Train Acc | Test Auc | Train Loss | Test Loss |\n",
      "+-------------+-----------+-----------+----------+------------+-----------+\n",
      "| LSTM 1Layer |   Nadam   |   0.981   |  0.972   |   0.0706   |   0.0828  |\n",
      "| LSTM 2layer |    Adam   |   0.977   |  0.973   |   0.0481   |   0.0732  |\n",
      "+-------------+-----------+-----------+----------+------------+-----------+\n"
     ]
    }
   ],
   "source": [
    "from prettytable import PrettyTable\n",
    "x = PrettyTable()\n",
    "x.field_names = [\"Model\", \"Optimizer\", \"Train Acc\",\"Test Auc\",\"Train Loss\",\"Test Loss\"]\n",
    "x.add_row([\"LSTM 1Layer\",\"Nadam\",0.981,0.972,0.0706,0.0828])\n",
    "x.add_row([\"LSTM 2layer\",\"Adam\",0.977,0.973,0.0481,0.0732])\n",
    "\n",
    "from IPython.display import Markdown, display\n",
    "def printmd(string):\n",
    "    display(Markdown(string))\n",
    "printmd('****Final Conclusion:****')\n",
    "print(x)"
   ]
  },
  {
   "cell_type": "markdown",
   "metadata": {},
   "source": [
    "  "
   ]
  },
  {
   "cell_type": "markdown",
   "metadata": {},
   "source": [
    " "
   ]
  },
  {
   "cell_type": "markdown",
   "metadata": {},
   "source": [
    " "
   ]
  },
  {
   "cell_type": "markdown",
   "metadata": {},
   "source": [
    " "
   ]
  },
  {
   "cell_type": "markdown",
   "metadata": {},
   "source": [
    " "
   ]
  },
  {
   "cell_type": "markdown",
   "metadata": {},
   "source": [
    " "
   ]
  },
  {
   "cell_type": "markdown",
   "metadata": {},
   "source": [
    " "
   ]
  },
  {
   "cell_type": "markdown",
   "metadata": {},
   "source": [
    " "
   ]
  }
 ],
 "metadata": {
  "kernelspec": {
   "display_name": "Python 3",
   "language": "python",
   "name": "python3"
  },
  "language_info": {
   "codemirror_mode": {
    "name": "ipython",
    "version": 3
   },
   "file_extension": ".py",
   "mimetype": "text/x-python",
   "name": "python",
   "nbconvert_exporter": "python",
   "pygments_lexer": "ipython3",
   "version": "3.6.5"
  },
  "toc": {
   "base_numbering": 1,
   "nav_menu": {},
   "number_sections": false,
   "sideBar": true,
   "skip_h1_title": false,
   "title_cell": "Table of Contents",
   "title_sidebar": "Contents",
   "toc_cell": false,
   "toc_position": {},
   "toc_section_display": true,
   "toc_window_display": false
  },
  "varInspector": {
   "cols": {
    "lenName": 16,
    "lenType": 16,
    "lenVar": 40
   },
   "kernels_config": {
    "python": {
     "delete_cmd_postfix": "",
     "delete_cmd_prefix": "del ",
     "library": "var_list.py",
     "varRefreshCmd": "print(var_dic_list())"
    },
    "r": {
     "delete_cmd_postfix": ") ",
     "delete_cmd_prefix": "rm(",
     "library": "var_list.r",
     "varRefreshCmd": "cat(var_dic_list()) "
    }
   },
   "types_to_exclude": [
    "module",
    "function",
    "builtin_function_or_method",
    "instance",
    "_Feature"
   ],
   "window_display": false
  }
 },
 "nbformat": 4,
 "nbformat_minor": 2
}
